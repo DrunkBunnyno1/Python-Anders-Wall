{
 "cells": [
  {
   "cell_type": "code",
   "execution_count": 161,
   "metadata": {},
   "outputs": [
    {
     "data": {
      "text/plain": [
       "<matplotlib.collections.PathCollection at 0x17260a27f10>"
      ]
     },
     "execution_count": 161,
     "metadata": {},
     "output_type": "execute_result"
    },
    {
     "data": {
      "image/png": "[encoded data removed]",
      "text/plain": [
       "<Figure size 640x480 with 1 Axes>"
      ]
     },
     "metadata": {},
     "output_type": "display_data"
    }
   ],
   "source": [
    "import numpy as np\n",
    "import matplotlib.pyplot as plt\n",
    "\n",
    "a1 = 0\n",
    "b1 = 0\n",
    "c1 = 0\n",
    "a2 = 0\n",
    "b2 = 0\n",
    "c2 = 0\n",
    "\n",
    "\n",
    "with open(\"C:\\\\Users\\\\waan2\\\\Documents\\\\Python-Anders-Wall\\\\Labs\\\\Labb_2_Maskin\\\\recorses\\\\datapoints.txt\") as file:\n",
    "    pocnon = file.read()\n",
    "pika = []  \n",
    "pich = []\n",
    "pocnon_pika = []\n",
    "pocnon_pich = []\n",
    "pich_x_axis = []\n",
    "pich_y = []\n",
    "pich_y_axis = []\n",
    "pika_x_axis = []\n",
    "pika_y = []\n",
    "pika_y_axis = []\n",
    "pocnon_list = pocnon.split(\"\\n\")\n",
    "\n",
    "for i in pocnon_list:\n",
    "    if i[-1] == \"1\":\n",
    "        pocnon_pika.append(i)\n",
    "    elif i[-1]== \"0\":\n",
    "        pocnon_pich.append(i)\n",
    "\n",
    "for i in pocnon_pich:\n",
    "    \n",
    "    pich.append(i.split(','))\n",
    "for i in pocnon_pika:\n",
    "    pika.append(i.split(',') )\n",
    "\n",
    "for i in pich:\n",
    "    del pich[a1][2]\n",
    "    del pika[a1][2]\n",
    "    a1 += 1\n",
    "\n",
    "for i in pich:\n",
    "    pich_x_axis.append(pich[b1][0])\n",
    "    pika_x_axis.append(pika[b1][0])\n",
    "    pich_y.append(pich[b1][1])\n",
    "    pika_y.append(pika[b1][1])\n",
    "    b1 +=1\n",
    "for i in pika_y:\n",
    "    pika_y_axis.append(i.strip())\n",
    "for i in pich_y:\n",
    "    pich_y_axis.append(i.strip())\n",
    "#for i in pich:\n",
    "#    pich_y_axis.append(pich[b1][1])\n",
    "#    b1 +=1\n",
    "\n",
    "#for i in pika:\n",
    "#    del pika[a2][2]\n",
    "#    a2 += 1\n",
    "#for i in pika:\n",
    "#    pika_x_axis.append(pika[c2][0])\n",
    "#    c2 +=1\n",
    "#for i in pika:\n",
    "#    pika_y_axis.append(pika[b2][1])\n",
    "#    b2 +=1\n",
    "#for index, pokemon in enumerate(pich_x_axis):\n",
    "#    print(f\"{index}: {pokemon} X-\")\n",
    "#for index, pokemon in enumerate(pich_y_axis):\n",
    "#    print(f\"{index}: {pokemon} Y-\")\n",
    "#for index, pokemon in enumerate(pich):\n",
    "#    print(f\"{index}: {pokemon}\")\n",
    "    #print(pika_y_axis[0])\n",
    "    #print(pich_x_axis[0])\n",
    "    #print(pich_y_axis[0])\n",
    "    \n",
    "# plot our list in X,Y coordinates\n",
    "#labels = [\"pika\", \"pich\"]\n",
    "#values =[pika, pich]\n",
    "#plt.scatter(pika, pich)\n",
    "user_input_xaxis = float(input(\"Skriv ditt x värde så skall vi tareda på om den till hör Pika eller Picha\"))\n",
    "user_input_yaxis = float(input(\"Skriv ditt y värde så skall vi se om den till hör pika eller picha\"))\n",
    "\n",
    "plt.scatter([pika_x_axis,pika_y_axis],[pich_x_axis,pich_y_axis])\n",
    "plt.scatter(user_input_xaxis, user_input_yaxis, color= \"r\")\n",
    "#    c1 +=1\n",
    "#plt.scatter(pich_x_axis,pich_y_axis)\n",
    "#plt.scatter(30,27, color=\"red\")\n",
    "#plt.show()\n",
    "\n",
    "#user_input_xaxis = float(input(\"Skriv x värde så skall vi tareda på om den till hör Pika eller Picha\"))"
   ]
  }
 ],
 "metadata": {
  "kernelspec": {
   "display_name": "Python-Anders-Wall-ATCBtCeT",
   "language": "python",
   "name": "python3"
  },
  "language_info": {
   "codemirror_mode": {
    "name": "ipython",
    "version": 3
   },
   "file_extension": ".py",
   "mimetype": "text/x-python",
   "name": "python",
   "nbconvert_exporter": "python",
   "pygments_lexer": "ipython3",
   "version": "3.11.4"
  },
  "orig_nbformat": 4
 },
 "nbformat": 4,
 "nbformat_minor": 2
}
