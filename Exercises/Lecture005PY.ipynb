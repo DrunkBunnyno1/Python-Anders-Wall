{
 "cells": [
  {
   "cell_type": "markdown",
   "metadata": {},
   "source": [
    "### Problem 1 and solution\n",
    "\n",
    "Let the user input a word:\n",
    "\n",
    "- print out the number of letters in the word. (*)\n",
    "- print out the number of uppercase and lowercase letters of the word (*)"
   ]
  },
  {
   "cell_type": "code",
   "execution_count": 6,
   "metadata": {},
   "outputs": [
    {
     "name": "stdout",
     "output_type": "stream",
     "text": [
      "20\n",
      "Number of lowercase leters: 10\n",
      "Number of uppercase leters: 10\n"
     ]
    }
   ],
   "source": [
    "user_word = input(\"Typ a word: \")\n",
    "uppercase_leter = 0\n",
    "lowercase_leter = 0\n",
    "print(f\"{len(user_word)}\")\n",
    "for leter in user_word:\n",
    "    if leter.isupper():\n",
    "        uppercase_leter += 1\n",
    "    elif leter.islower():\n",
    "        lowercase_leter += 1\n",
    "print(f\"Number of lowercase leters: {lowercase_leter}\")\n",
    "print(f\"Number of uppercase leters: {uppercase_leter}\")"
   ]
  },
  {
   "cell_type": "markdown",
   "metadata": {},
   "source": [
    "### Problem 2 and Solution\n",
    "\n",
    "*Ask the user to input their first and last name (same input e.g. \"Fredrik Johansson\"). Then print the names separately:*\n",
    "\n",
    "**Answer**\n",
    "- Firstname: Fredrik\n",
    "- Lastname: Johansson"
   ]
  },
  {
   "cell_type": "code",
   "execution_count": 10,
   "metadata": {},
   "outputs": [
    {
     "name": "stdout",
     "output_type": "stream",
     "text": [
      "Frist name: Anders \n",
      "Last name: Wall\n"
     ]
    }
   ],
   "source": [
    "user_full_name = input(\"Pliase type ur first name and last name: \")\n",
    "user_name_first_last = user_full_name.split()\n",
    "firstname = user_name_first_last[0]\n",
    "lastname = user_name_first_last[1]\n",
    "print(f\"Frist name: {firstname} \\nLast name: {lastname}\")"
   ]
  },
  {
   "cell_type": "markdown",
   "metadata": {},
   "source": [
    "#### problem 3 and solution\n",
    "\n",
    "*Count the number of words in this sentence: \"A picture says more than a thousand words, a matematical formula says more than a thousand pictures.\" *\n",
    "\n",
    "**Answer**\n",
    "- There are 17 words in that sentence"
   ]
  },
  {
   "cell_type": "code",
   "execution_count": 19,
   "metadata": {},
   "outputs": [
    {
     "name": "stdout",
     "output_type": "stream",
     "text": [
      "Ther ar 17 words in that sentaence\n"
     ]
    }
   ],
   "source": [
    "count_sentence = \"A picture says more than a thousand words, a matematical formula says more than a thousand pictures.\"\n",
    "word_count = count_sentence.count(\" \") +1\n",
    "print(f\"Ther ar {word_count} words in that sentence\")"
   ]
  },
  {
   "cell_type": "markdown",
   "metadata": {},
   "source": [
    "### Prblem 4 and solution\n",
    "\n",
    "*Ask the user to input a sentence, then print the words in reverse order.*\n",
    "*Also, make the first letter in the first word uppercase when reversed.*\n",
    "\n",
    "**Answer**\n",
    "- *Example input: This is input from the user*\n",
    "- **Output: user the from input is This**\n",
    "\n",
    "- *Example input: This is input from the user*\n",
    "- **Output: User the from input is this**"
   ]
  },
  {
   "cell_type": "code",
   "execution_count": 18,
   "metadata": {},
   "outputs": [
    {
     "name": "stdout",
     "output_type": "stream",
     "text": [
      "Outtput: Igen provar fan\n"
     ]
    }
   ],
   "source": [
    "user_sentence = input(\"Typ a sentence:\")\n",
    "\n",
    "word = \" \"\n",
    "user_word = user_sentence.split()\n",
    "for i in user_word[::-1]:\n",
    "    word = word + \" \" + i\n",
    "word2 = word.lstrip()\n",
    "\n",
    "print(f\"Outtput: {word2.capitalize()}\")\n",
    "\n",
    "\n"
   ]
  },
  {
   "cell_type": "markdown",
   "metadata": {},
   "source": [
    "Problem 5 and solution\n",
    "\n",
    "A palindrome is a sequence of characters that is the same, when read forward as backwards (ignoring spaces). For example:\n",
    "\n",
    "- \"Anna\" is a palindrome\n",
    "- \"Ni talar bra latin\"\n",
    "- \"bjkjb \"\n",
    "Let the user input a sequence of characters and check if it is a palindrome."
   ]
  },
  {
   "cell_type": "code",
   "execution_count": 43,
   "metadata": {},
   "outputs": [
    {
     "name": "stdout",
     "output_type": "stream",
     "text": [
      "no\n"
     ]
    }
   ],
   "source": [
    "palindrome = input(\"Typ test and i whil chek if it is a Palindome: \")\n",
    "\n",
    "palindrome2 = palindrome.replace(\" \",\"\")\n",
    "\n",
    "palindrom3 = palindrome2.casefold()\n",
    "\n",
    "if palindrom3[::-1] == palindrom3:\n",
    "    print(\"yes\")\n",
    "else:\n",
    "    print(\"no\")\n"
   ]
  },
  {
   "cell_type": "markdown",
   "metadata": {},
   "source": [
    "### Problem 6 and solution\n",
    "\n",
    "*Count the number of vowels in this sentence: \"Pure mathematics is, in its way, the poetry of logical ideas\"*\n",
    "\n",
    "**Answer**\n",
    "- There are 22 vowels in this sentence\n"
   ]
  },
  {
   "cell_type": "code",
   "execution_count": 44,
   "metadata": {},
   "outputs": [
    {
     "name": "stdout",
     "output_type": "stream",
     "text": [
      "Ther is 22 vowels in the sentence\n"
     ]
    }
   ],
   "source": [
    "sentence = \"Pure mathematics is, in its way, the poetry of logical ideas\"\n",
    "vowel_count = sentence.casefold()\n",
    "count = 0\n",
    "for leter in vowel_count:\n",
    "    if leter in \"aeiouyåäö\": \n",
    "        count +=1\n",
    "print(f\"Ther is {count} vowels in the sentence\")\n",
    "\n"
   ]
  },
  {
   "cell_type": "markdown",
   "metadata": {},
   "source": [
    "### Problem 7 and solution\n",
    "\n",
    "*Ask the user to input a sentence, and translate it using the formula described in this article:*\n",
    "\n",
    "https://en.wikipedia.org/wiki/R%C3%B6varspr%C3%A5ket"
   ]
  },
  {
   "cell_type": "code",
   "execution_count": 49,
   "metadata": {},
   "outputs": [
    {
     "name": "stdout",
     "output_type": "stream",
     "text": [
      "jojagog älolsoskokaror dodigog boberornonadodetottot\n"
     ]
    }
   ],
   "source": [
    "user_text = input(\"Typ text u whnat coded in The Robber Language\")\n",
    "\n",
    "user_text = user_text.casefold()\n",
    "the_robber_language = \"\"\n",
    "for leter in user_text:\n",
    "    if leter not in \"aeiouyåäö' '\":\n",
    "        the_robber_language = the_robber_language + leter + \"o\" + leter\n",
    "    else:\n",
    "        the_robber_language += leter\n",
    "print(f\"{the_robber_language}\")\n",
    "    \n",
    "\n",
    "\n"
   ]
  },
  {
   "cell_type": "markdown",
   "metadata": {},
   "source": [
    "### Problem 8 and Solution\n",
    "\n",
    "**Let the user input a word and:**\n",
    "- encrypt the message by replacing each letter with the next letter. If the letter is in the end of the alphabet, use the first letter instead.\n",
    "\n",
    "*e.g. in Swedish: \"höst\" * :\n",
    " *\"iatu\"*\n",
    "\n",
    "- decrypt the message\n",
    "- let the user choose either encryption or decryption."
   ]
  },
  {
   "cell_type": "code",
   "execution_count": null,
   "metadata": {},
   "outputs": [],
   "source": [
    "#user_input = input(\"Do u whant to decrypt [D] or encrypt [E] or quit [Q]\")\n",
    "\n",
    "while user_input != \"Q\":\n",
    "    user_input = input(\"Do u whant to decrypt [D] or encrypt [E] or quit [Q]\")\n",
    "    alfabet = \"abcdefghijklmnopqrstuvxyzåäö\"\n",
    "    encrypted = \"\"\n",
    "\n",
    "    if user_input == \"D\":\n",
    "        print(\"D\")\n",
    "        for leter in user_input:\n",
    "            a = alfabet.index(leter)\n",
    "            if leter == 27:\n",
    "                a = 0\n",
    "                encrypted = + alfabet.find(a)\n",
    "\n",
    "    elif user_input == \"E\":\n",
    "        print(\"E\")\n",
    "    elif user_input == \"Q\":\n",
    "        break"
   ]
  },
  {
   "cell_type": "code",
   "execution_count": 59,
   "metadata": {},
   "outputs": [
    {
     "ename": "TypeError",
     "evalue": "'str' object is not callable",
     "output_type": "error",
     "traceback": [
      "\u001b[1;31m---------------------------------------------------------------------------\u001b[0m",
      "\u001b[1;31mTypeError\u001b[0m                                 Traceback (most recent call last)",
      "Cell \u001b[1;32mIn[59], line 3\u001b[0m\n\u001b[0;32m      1\u001b[0m alfabet \u001b[39m=\u001b[39m \u001b[39m\"\u001b[39m\u001b[39mabcdefghijklmnopqrstuvxyzåäö\u001b[39m\u001b[39m\"\u001b[39m\n\u001b[0;32m      2\u001b[0m leter \u001b[39m=\u001b[39m \u001b[39m\"\u001b[39m\u001b[39mö\u001b[39m\u001b[39m\"\u001b[39m\n\u001b[1;32m----> 3\u001b[0m a \u001b[39m=\u001b[39m alfabet(\u001b[39m\"\u001b[39;49m\u001b[39mö\u001b[39;49m\u001b[39m\"\u001b[39;49m)\n\u001b[0;32m      6\u001b[0m \u001b[39mprint\u001b[39m(a)\n",
      "\u001b[1;31mTypeError\u001b[0m: 'str' object is not callable"
     ]
    }
   ],
   "source": [
    "alfabet = \"abcdefghijklmnopqrstuvxyzåäö\"\n",
    "leter = \"ö\"\n",
    "a = alfabet(\"ö\")\n",
    "\n",
    "\n",
    "print(a)"
   ]
  }
 ],
 "metadata": {
  "kernelspec": {
   "display_name": "Python 3",
   "language": "python",
   "name": "python3"
  },
  "language_info": {
   "codemirror_mode": {
    "name": "ipython",
    "version": 3
   },
   "file_extension": ".py",
   "mimetype": "text/x-python",
   "name": "python",
   "nbconvert_exporter": "python",
   "pygments_lexer": "ipython3",
   "version": "3.11.4"
  },
  "orig_nbformat": 4
 },
 "nbformat": 4,
 "nbformat_minor": 2
}
