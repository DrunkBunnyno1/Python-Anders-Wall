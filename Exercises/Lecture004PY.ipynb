{
 "cells": [
  {
   "cell_type": "markdown",
   "metadata": {},
   "source": [
    "# Problem 1 and solution\n",
    "\n",
    "Simulate 10 dice rolls and append the rolls to a list or use list comprehension.\n",
    "\n",
    "- *sort the list in ascending order*\n",
    "- *sort the list in descending order*\n",
    "- *find the maximum and minimum value in the list*"
   ]
  },
  {
   "cell_type": "code",
   "execution_count": 11,
   "metadata": {},
   "outputs": [
    {
     "name": "stdout",
     "output_type": "stream",
     "text": [
      "[1, 1, 2, 3, 3, 4, 5, 6, 6, 6]\n",
      "[6, 6, 6, 5, 4, 3, 3, 2, 1, 1]\n"
     ]
    }
   ],
   "source": [
    "import random\n",
    "\n",
    "dice_roll = []\n",
    "for i in range(10):\n",
    "    dice = random.randint(1,6)\n",
    "    dice_roll.append(dice)\n",
    "\n",
    "dice_roll.sort()\n",
    "print(f\"{dice_roll}\")\n",
    "dice_roll.sort(reverse=True)\n",
    "print(f\"{dice_roll}\")\n",
    "\n"
   ]
  },
  {
   "cell_type": "markdown",
   "metadata": {},
   "source": [
    "# Problem 2 and solution\n",
    "\n",
    "Create a:\n",
    "\n",
    "- list with the following elements: \"vegetarisk lasagne\", \"spaghetti\", \"fisk\", \"grönsakssoppa\", \"pannkakor\". (*)\n",
    "- list with the weekdays (*)\n",
    "- create a food menu with each day corresponding to each food item and print it out. (*)\n",
    "\n",
    "Answer\n",
    ">\n",
    ">\n",
    ">| Bambameny | |\n",
    "> -----|-----|\n",
    ">| Mån: | vegetarisk lasagne |\n",
    ">| Tis: | spaghetti |\n",
    ">| Ons: | fisk |\n",
    ">| Tor: | grönsakssoppa |\n",
    ">| Fre: | pannkakor |"
   ]
  },
  {
   "cell_type": "code",
   "execution_count": 70,
   "metadata": {},
   "outputs": [
    {
     "name": "stdout",
     "output_type": "stream",
     "text": [
      "Bammbameny \n",
      "\n",
      "Mån: Vegetarisk Lasagne \n",
      "\n",
      "Tis: Spaghetti \n",
      "\n",
      "Ons: Fisk \n",
      "\n",
      "Tor: Grönsakssoppa \n",
      "\n",
      "Fre: Pannkakor \n",
      " \n"
     ]
    }
   ],
   "source": [
    "food_list = [\"Vegetarisk Lasagne\", \"Spaghetti\", \"Fisk\", \"Grönsakssoppa\", \"Pannkakor\"]\n",
    "day_list = [\"Mån: \", \"Tis: \", \"Ons: \", \"Tor: \", \"Fre: \"]\n",
    "count = 0\n",
    "food_of_the_day = []\n",
    "for i in range(5):\n",
    "    food_of_the_day.append(day_list[count] +  food_list[count])\n",
    "    count += 1\n",
    "bamba_meny= [food + \" \\n\" for food in food_of_the_day]\n",
    "#food_of_the_day = [day_list +  food_list for day in day_list]\n",
    "#count += 1\n",
    "#print(f\"{day_list}\")\n",
    "print(f\"Bammbameny \\n\\n{chr(10).join(bamba_meny)} \")\n"
   ]
  },
  {
   "cell_type": "markdown",
   "metadata": {},
   "source": [
    "# problem 3 and sloution\n",
    "\n",
    "- Use list comprehension to create a list of squares from -10 to 10 (*)\n",
    "\n",
    "- Plot this list using matplotlib. (*)\n",
    "\n",
    "Answer\n",
    "- [100, 81, 64, 49, 36, 25, 16, 9, 4, 1, 0, 1, 4, 9, 16, 25, 36, 49, 64, 81, 100]\n",
    "\n",
    "\n"
   ]
  },
  {
   "cell_type": "code",
   "execution_count": null,
   "metadata": {},
   "outputs": [],
   "source": [
    "import matplotlib.pyplot as plt\n",
    "import numpy as np\n"
   ]
  }
 ],
 "metadata": {
  "kernelspec": {
   "display_name": "Python 3",
   "language": "python",
   "name": "python3"
  },
  "language_info": {
   "codemirror_mode": {
    "name": "ipython",
    "version": 3
   },
   "file_extension": ".py",
   "mimetype": "text/x-python",
   "name": "python",
   "nbconvert_exporter": "python",
   "pygments_lexer": "ipython3",
   "version": "3.11.4"
  },
  "orig_nbformat": 4
 },
 "nbformat": 4,
 "nbformat_minor": 2
}
