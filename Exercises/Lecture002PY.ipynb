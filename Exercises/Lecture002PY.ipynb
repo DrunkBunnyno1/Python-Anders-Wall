{
 "cells": [
  {
   "cell_type": "markdown",
   "metadata": {},
   "source": [
    "### Problem 1 and Slolution.\n",
    "*Use a while statement to count from -10 to 10 with one increment.*"
   ]
  },
  {
   "cell_type": "code",
   "execution_count": 2,
   "metadata": {},
   "outputs": [
    {
     "name": "stdout",
     "output_type": "stream",
     "text": [
      "-10\n",
      "-9\n",
      "-8\n",
      "-7\n",
      "-6\n",
      "-5\n",
      "-4\n",
      "-3\n",
      "-2\n",
      "-1\n",
      "0\n",
      "1\n",
      "2\n",
      "3\n",
      "4\n",
      "5\n",
      "6\n",
      "7\n",
      "8\n",
      "9\n",
      "10\n"
     ]
    }
   ],
   "source": [
    "num = -11\n",
    "while num != 10: # != not 10\n",
    "    num += 1 # last num is excluded start -1, end +-0\n",
    "    print(f\"{num}\")"
   ]
  },
  {
   "cell_type": "markdown",
   "metadata": {},
   "source": [
    "### Problem 2 and sloution\n",
    "Use a while statement to compute the following sums:\n",
    "- *1 + 2 + ... + 99 + 100*\n",
    "- *1 + 3 + 5 +...+ 97 + 99*\n",
    "\n",
    "Answer\n",
    "- a 1 + 2 + ... + 99 + 100 = 5050\n",
    "- b 1 + 3 + 5 +...+ 97 + 99 = 2500"
   ]
  },
  {
   "cell_type": "code",
   "execution_count": 103,
   "metadata": {},
   "outputs": [
    {
     "name": "stdout",
     "output_type": "stream",
     "text": [
      "The Sum is 5050\n",
      "The Sum is 2500\n"
     ]
    }
   ],
   "source": [
    "num1 = 100 # Set num to Number\n",
    "sum1 = 0\n",
    "\n",
    "while num1 > 0: # while num is bigger then Zero\n",
    "    sum1 = num1 + sum1\n",
    "    num1 -= 1 # subtrakt 1 from num1, next lop num = 99, 98, 97,,,,,,,,,\n",
    "print(f\"The Sum is {sum1}\")\n",
    "\n",
    "num2 = 99 # Code taht can be implemented is input, user input odd number\n",
    "sum2 = 0\n",
    "while num2 > 0: # while num is bigger then 0\n",
    "    sum2 = num2 + sum2\n",
    "    num2 -= 2 # subtrak 2 from num2, next loop num2 = 97, 95, 93,,,,,,\n",
    "print(f\"The Sum is {sum2}\")\n",
    "\n",
    "\n",
    "\n",
    " "
   ]
  },
  {
   "cell_type": "markdown",
   "metadata": {},
   "source": [
    "### Problem 3 and solution\n",
    "\n",
    "*Create a guessing number game following this flow chart:*"
   ]
  },
  {
   "cell_type": "code",
   "execution_count": 10,
   "metadata": {},
   "outputs": [
    {
     "name": "stdout",
     "output_type": "stream",
     "text": [
      "62\n",
      "U geussed the righet number, ur number 62 in inguesses 1 \n",
      "lowe 58\n",
      "hige 72\n",
      "hige 66\n",
      "lowe 60\n",
      "hige 62\n",
      "lowe 62\n",
      "62 comp did it in 7 guesses\n"
     ]
    }
   ],
   "source": [
    "import random # import Random\n",
    "import math # import math\n",
    "\n",
    "rand_nr = random.randint(1,100) # Generate random number 1-100\n",
    "print(f\"{rand_nr}\") # used to test funktonality\n",
    "nonpc_rand_1 = 100 # set computer random geuss 100 line 25\n",
    "nonpc_rand_2 = 1 # set computer random geuss 1 line 25\n",
    "comp_guessed_time = 0 # set computer random geuss, change line 26\n",
    "nonpc_num = 0 # set computer start num\n",
    "player_num = 0 # set player start num\n",
    "guessed_time = 0 # set player random geuss, change line 13\n",
    "\n",
    "while player_num != rand_nr: # while player dont have the random number\n",
    "    guessed_time += 1\n",
    "    player_num = int(input(\"Type a number betwine 1 and 100\"))\n",
    "\n",
    "    if player_num > rand_nr:        \n",
    "        print(f\"The Number u are locking for is samler, ur number {player_num}\") # if palyer geuss hige clu, geuss agen\n",
    "    elif player_num < rand_nr:        \n",
    "        print(f\"The number ur loocking for is bigger, ur number: {player_num}\") #  if palyer geuss lowe clu, geuss agen\n",
    "    elif player_num == rand_nr:\n",
    "        print(f\"U geussed the righet number, ur number {player_num} in inguesses {guessed_time} \") # if player geuss righet display player and random num\n",
    "\n",
    "while nonpc_num != rand_nr:    \n",
    "    nonpc_num = random.randint(nonpc_rand_2,nonpc_rand_1)\n",
    "    comp_guessed_time += 1\n",
    "\n",
    "    if  rand_nr < nonpc_num:\n",
    "        nonpc_rand_1 = nonpc_num - 1 # chnage line 25 to hige random num limit\n",
    "        #nonpc_num = random.randint(nonpc_rand_2,nonpc_rand_1)       \n",
    "        print(f\"hige {nonpc_rand_1}\")\n",
    "\n",
    "    elif  rand_nr > nonpc_num:\n",
    "        nonpc_rand_2 = nonpc_num + 1 # change line 25 to lowe random limit\n",
    "        #nonpc_num = random.randint(nonpc_rand_2, nonpc_rand_1)        \n",
    "        print(f\"lowe {nonpc_rand_2}\")\n",
    "       \n",
    "print(f\"{nonpc_num} comp did it in {comp_guessed_time} guesses\")\n",
    "        \n"
   ]
  },
  {
   "attachments": {
    "image.png": {
     "image/png": "[encoded data removed]"
    }
   },
   "cell_type": "markdown",
   "metadata": {},
   "source": [
    "### Problem 4 and solution\n",
    "\n",
    "*Create a multiplication game following this flow chart:*\n",
    "\n",
    "![image.png](attachment:image.png)\n"
   ]
  },
  {
   "cell_type": "code",
   "execution_count": 12,
   "metadata": {},
   "outputs": [
    {
     "name": "stdout",
     "output_type": "stream",
     "text": [
      "Do U wahnt to play a game? Ansver y or n: \n",
      "Corect answer!!!!\n",
      "Corect ansers: 1\n",
      " Incorect ansers: 0\n",
      "Do U wahnt to play a game? Ansver y or n: \n",
      "Corect answer!!!!\n",
      "Corect ansers: 2\n",
      " Incorect ansers: 0\n",
      "Do U wahnt to play a game? Ansver y or n: \n",
      "Corect answer!!!!\n",
      "Corect ansers: 3\n",
      " Incorect ansers: 0\n",
      "Do U wahnt to play a game? Ansver y or n: \n",
      "Corect answer!!!!\n",
      "Corect ansers: 4\n",
      " Incorect ansers: 0\n",
      "Do U wahnt to play a game? Ansver y or n: \n",
      "Wrong answer!!!!\n",
      "Corect ansers: 4\n",
      " Incorect ansers: 1\n",
      "Do U wahnt to play a game? Ansver y or n: \n",
      "God Game\n"
     ]
    }
   ],
   "source": [
    "import random\n",
    "\n",
    "\n",
    "play_game = \"y\"\n",
    "corect_answer = 0\n",
    "wrong_answer = 0\n",
    "\n",
    "while play_game == \"y\":\n",
    "    play_game = input(print(\"Do U wahnt to play a game? Ansver y or n: \"))\n",
    "    num1 = random.randint(1,10)\n",
    "    num2 = random.randint(1,10) \n",
    "    \n",
    "\n",
    "    if play_game == \"y\":\n",
    "        sum_ply = int(input(f\"What is {num1} * {num2} ?:\"))\n",
    "        sum_rand = num1 * num2\n",
    "        if sum_ply == sum_rand:\n",
    "            corect_answer += 1\n",
    "            print(\"Corect answer!!!!\")\n",
    "            print(f\"Corect ansers: {corect_answer}\\n Incorect ansers: {wrong_answer}\")\n",
    "        elif sum_ply != sum_rand:\n",
    "            wrong_answer += 1\n",
    "            print(\"Wrong answer!!!!\")\n",
    "            print(f\"Corect ansers: {corect_answer}\\n Incorect ansers: {wrong_answer}\")\n",
    "\n",
    "\n",
    "    elif play_game !=\"y\":\n",
    "        print(\"God Game\")"
   ]
  },
  {
   "cell_type": "code",
   "execution_count": null,
   "metadata": {},
   "outputs": [],
   "source": []
  },
  {
   "cell_type": "markdown",
   "metadata": {},
   "source": []
  }
 ],
 "metadata": {
  "kernelspec": {
   "display_name": "Python 3",
   "language": "python",
   "name": "python3"
  },
  "language_info": {
   "codemirror_mode": {
    "name": "ipython",
    "version": 3
   },
   "file_extension": ".py",
   "mimetype": "text/x-python",
   "name": "python",
   "nbconvert_exporter": "python",
   "pygments_lexer": "ipython3",
   "version": "3.11.4"
  },
  "orig_nbformat": 4
 },
 "nbformat": 4,
 "nbformat_minor": 2
}
