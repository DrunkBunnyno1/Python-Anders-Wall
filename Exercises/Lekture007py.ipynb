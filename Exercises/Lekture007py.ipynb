{
 "cells": [
  {
   "cell_type": "code",
   "execution_count": 2,
   "metadata": {},
   "outputs": [
    {
     "name": "stdout",
     "output_type": "stream",
     "text": [
      "dcba\n"
     ]
    }
   ],
   "source": [
    "user_input_txt = \"\"\n",
    "user_input=\" \"\n",
    "while user_input != \"\":\n",
    "    user_input = input(\"Skriv något kul\")\n",
    "    user_input_txt += user_input\n",
    "print(user_input_txt[::-1])\n"
   ]
  },
  {
   "cell_type": "code",
   "execution_count": 11,
   "metadata": {},
   "outputs": [
    {
     "name": "stdout",
     "output_type": "stream",
     "text": [
      "2\n"
     ]
    },
    {
     "ename": "TypeError",
     "evalue": "slice indices must be integers or None or have an __index__ method",
     "output_type": "error",
     "traceback": [
      "\u001b[1;31m---------------------------------------------------------------------------\u001b[0m",
      "\u001b[1;31mTypeError\u001b[0m                                 Traceback (most recent call last)",
      "\u001b[1;32mc:\\Users\\waan2\\Documents\\GittHub\\Python-Anders-Wall\\Exercises\\Lekture007py.ipynb Cell 2\u001b[0m line \u001b[0;36m7\n\u001b[0;32m      <a href='vscode-notebook-cell:/c%3A/Users/waan2/Documents/GittHub/Python-Anders-Wall/Exercises/Lekture007py.ipynb#W1sZmlsZQ%3D%3D?line=4'>5</a>\u001b[0m \u001b[39mfor\u001b[39;00m key \u001b[39min\u001b[39;00m keys:\n\u001b[0;32m      <a href='vscode-notebook-cell:/c%3A/Users/waan2/Documents/GittHub/Python-Anders-Wall/Exercises/Lekture007py.ipynb#W1sZmlsZQ%3D%3D?line=5'>6</a>\u001b[0m     \u001b[39mprint\u001b[39m(key)\n\u001b[1;32m----> <a href='vscode-notebook-cell:/c%3A/Users/waan2/Documents/GittHub/Python-Anders-Wall/Exercises/Lekture007py.ipynb#W1sZmlsZQ%3D%3D?line=6'>7</a>\u001b[0m     \u001b[39mprint\u001b[39m(keys[key:])\n\u001b[0;32m      <a href='vscode-notebook-cell:/c%3A/Users/waan2/Documents/GittHub/Python-Anders-Wall/Exercises/Lekture007py.ipynb#W1sZmlsZQ%3D%3D?line=7'>8</a>\u001b[0m     \u001b[39m#print(num)\u001b[39;00m\n",
      "\u001b[1;31mTypeError\u001b[0m: slice indices must be integers or None or have an __index__ method"
     ]
    }
   ],
   "source": [
    "my_dict = {1 : \"ett\", 2 : \"två\", 3 : \"tre\", 4 : \"fyra\", 5 : \"fem\",\n",
    "           6 : \"sex\", 7 : \"sju\", 8 : \"åtta\", 9 : \"nio\"}\n",
    "keys = input(\"skriv ett eller flera nummer:\")\n",
    "\n",
    "for key in keys:\n",
    "    print(key)\n",
    "    print(keys[key:])\n",
    "    #print(num)"
   ]
  }
 ],
 "metadata": {
  "kernelspec": {
   "display_name": "Python-Anders-Wall-J6Nhmzgy",
   "language": "python",
   "name": "python3"
  },
  "language_info": {
   "codemirror_mode": {
    "name": "ipython",
    "version": 3
   },
   "file_extension": ".py",
   "mimetype": "text/x-python",
   "name": "python",
   "nbconvert_exporter": "python",
   "pygments_lexer": "ipython3",
   "version": "3.11.5"
  },
  "orig_nbformat": 4
 },
 "nbformat": 4,
 "nbformat_minor": 2
}
