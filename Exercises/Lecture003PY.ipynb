{
 "cells": [
  {
   "cell_type": "markdown",
   "metadata": {},
   "source": [
    "### Prpblem 1 and solution\n",
    "**Use a for statement to count from:**\n",
    "\n",
    "- *-10 to 10 with one increment*\n",
    "\n",
    "- *-10 to 10 with two increment*"
   ]
  },
  {
   "cell_type": "code",
   "execution_count": 1,
   "metadata": {},
   "outputs": [
    {
     "name": "stdout",
     "output_type": "stream",
     "text": [
      "-10\n",
      "-9\n",
      "-8\n",
      "-7\n",
      "-6\n",
      "-5\n",
      "-4\n",
      "-3\n",
      "-2\n",
      "-1\n",
      "0\n",
      "1\n",
      "2\n",
      "3\n",
      "4\n",
      "5\n",
      "6\n",
      "7\n",
      "8\n",
      "9\n",
      "10\n"
     ]
    }
   ],
   "source": [
    "for i in range(-10,11): # First num start, last num -1 end, i == num\n",
    "    print(f\"{i}\")"
   ]
  },
  {
   "cell_type": "code",
   "execution_count": 2,
   "metadata": {},
   "outputs": [
    {
     "name": "stdout",
     "output_type": "stream",
     "text": [
      "-10\n",
      "-8\n",
      "-6\n",
      "-4\n",
      "-2\n",
      "0\n",
      "2\n",
      "4\n",
      "6\n",
      "8\n",
      "10\n"
     ]
    }
   ],
   "source": [
    "for i in range(-10,11,2): # First num start, middle num -1 end, last num is increment, i == num\n",
    "    print(f\"{i}\")"
   ]
  },
  {
   "cell_type": "markdown",
   "metadata": {},
   "source": [
    "### Problem 2 And solution\n",
    "\n",
    "**Use a for statement to compute the following sums:**\n",
    "\n",
    "- sum = 1+2+3+4+5+6+7........+99+100\n",
    "- sum = 1+3+5+7+9............+97+99\n"
   ]
  },
  {
   "cell_type": "code",
   "execution_count": 7,
   "metadata": {},
   "outputs": [
    {
     "name": "stdout",
     "output_type": "stream",
     "text": [
      "5050\n",
      "5050.0\n"
     ]
    }
   ],
   "source": [
    "num1 = 0\n",
    "\n",
    "for i in range(1,101):\n",
    "    num1 += i\n",
    "print(f\"{num1}\")\n",
    "\n",
    "# Formula for 1+2+3+4+,,,,,,,+100\n",
    "# num = 100*(100+1)/2\n",
    "# print(f\"{num}\")"
   ]
  },
  {
   "cell_type": "code",
   "execution_count": 8,
   "metadata": {},
   "outputs": [
    {
     "name": "stdout",
     "output_type": "stream",
     "text": [
      "2500\n",
      "4999.5\n"
     ]
    }
   ],
   "source": [
    "num1 = 0\n",
    "\n",
    "for i in range(1,100,2):\n",
    "    num1 += i\n",
    "print(f\"{num1}\")\n",
    "\n"
   ]
  },
  {
   "cell_type": "markdown",
   "metadata": {},
   "source": [
    "### Problem 3 and sloutin\n",
    "\n",
    "**Use for statement(s) to:**\n",
    "- *print out the 6th multiplication table from 0 to 10*\n",
    "- *let the user input the table, start and end of the table.*\n",
    "- *print out a full multiplication table from 0 to 10.*\n"
   ]
  },
  {
   "cell_type": "code",
   "execution_count": 15,
   "metadata": {},
   "outputs": [
    {
     "name": "stdout",
     "output_type": "stream",
     "text": [
      "0\n",
      "6\n",
      "12\n",
      "18\n",
      "24\n",
      "30\n",
      "36\n",
      "42\n",
      "48\n",
      "54\n",
      "60\n"
     ]
    }
   ],
   "source": [
    "num1 = 0 \n",
    "for i in range(0,11): # starting point 0 end point 10\n",
    "    num1 = i * 6 # first loop num1 = 0, second loop num1 = 6 .........\n",
    "    print(f\"{num1}\")"
   ]
  },
  {
   "cell_type": "markdown",
   "metadata": {},
   "source": [
    "*let the user input the table, start and end of the table.*"
   ]
  },
  {
   "cell_type": "code",
   "execution_count": 27,
   "metadata": {},
   "outputs": [
    {
     "name": "stdout",
     "output_type": "stream",
     "text": [
      "5th mutiplication tabel from 5 to 12: 25 30 35 40 45 50 55 60 "
     ]
    }
   ],
   "source": [
    "multi_num = int(input(\"What multiplication tabel do u whant to use?:\\n\")) # Lests user input mutiplication tabel to * i, at line 6\n",
    "start_num = int(input(\"Whitch number do u whant to star whit?:\\n\")) #  start for mutiplication tabel, insert in range, at line 5\n",
    "end_num = int(input(\"Witch number do u whant to end whit?:\\n\")) + 1 # end for mutiplication tabel and add + 1, end num not included, insert line 5\n",
    "\n",
    "for i in range(0,1):\n",
    "    print(f\"{multi_num}th mutiplication tabel from {start_num} to {end_num -1}:\", end=\" \" ) # writh one time in loop of one, take avy +1 on end_num\n",
    "    for i in range(start_num,end_num): # wrhite x times start_num to end num count\n",
    "        num1 = i * multi_num # add valeu num1 = strat_num loop +=1 to end_num\n",
    "        print(f\"{num1}\", end= \" \") # print num1 in line"
   ]
  },
  {
   "cell_type": "markdown",
   "metadata": {},
   "source": [
    "*print out a full multiplication table from 0 to 10*"
   ]
  },
  {
   "cell_type": "code",
   "execution_count": 33,
   "metadata": {},
   "outputs": [
    {
     "name": "stdout",
     "output_type": "stream",
     "text": [
      "   0   0   0   0   0   0   0   0   0   0   0\n",
      "\n",
      "   0   1   2   3   4   5   6   7   8   9  10\n",
      "\n",
      "   0   2   4   6   8  10  12  14  16  18  20\n",
      "\n",
      "   0   3   6   9  12  15  18  21  24  27  30\n",
      "\n",
      "   0   4   8  12  16  20  24  28  32  36  40\n",
      "\n",
      "   0   5  10  15  20  25  30  35  40  45  50\n",
      "\n",
      "   0   6  12  18  24  30  36  42  48  54  60\n",
      "\n",
      "   0   7  14  21  28  35  42  49  56  63  70\n",
      "\n",
      "   0   8  16  24  32  40  48  56  64  72  80\n",
      "\n",
      "   0   9  18  27  36  45  54  63  72  81  90\n",
      "\n",
      "   0  10  20  30  40  50  60  70  80  90 100\n",
      "\n"
     ]
    }
   ],
   "source": [
    "for i in range(0,11): # do this loop 10 times\n",
    "    num1 = 0 + i # sett the multiplication table\n",
    "    for i in range(0,11): # do this loolp inside one loop\n",
    "        num2 = num1 * i\n",
    "        print(f\"{num2 : 4}\", end=\"\") # print on one line whit space\n",
    "    print(\"\\n\") # when 10 loops end, new line in feirst loop, start new loop at top\n"
   ]
  },
  {
   "cell_type": "markdown",
   "metadata": {},
   "source": [
    "### Problem 4 and solution\n",
    "\n",
    "*Use a for statement to compute n!.*\n",
    "\n",
    "**n! = 1*2*3*........*"
   ]
  },
  {
   "cell_type": "code",
   "execution_count": 39,
   "metadata": {},
   "outputs": [
    {
     "name": "stdout",
     "output_type": "stream",
     "text": [
      "1 i = 1\n",
      "2 i = 2\n",
      "6 i = 3\n",
      "24 i = 4\n",
      "120 i = 5\n",
      "720 i = 6\n",
      "5040 i = 7\n",
      "40320 i = 8\n",
      "362880 i = 9\n",
      "3628800 i = 10\n"
     ]
    }
   ],
   "source": [
    "\n",
    "n = int(input(\"Type the end number in the calcus loop 1*2*3*4*........\")) # user input number use as start line 4\n",
    "num1 = 1 # set num1 to 1\n",
    "n += 1 # user input +1\n",
    "for i in range(1,n): # user input start\n",
    "    num1 = num1*i # num1*i in loop \n",
    "    print(f\"{num1} i = {i}\")"
   ]
  },
  {
   "cell_type": "markdown",
   "metadata": {},
   "source": [
    "### Problem 5 and solution\n",
    "\n",
    "*The computer thinks of a four-digit number. Start by creating a random four-digit number. Use for statement to figure out a correct guess*\n"
   ]
  },
  {
   "cell_type": "code",
   "execution_count": null,
   "metadata": {},
   "outputs": [],
   "source": []
  },
  {
   "cell_type": "markdown",
   "metadata": {},
   "source": [
    "### Problem 6 and solution\n",
    "\n",
    "*In first square of the chessboard there is one grain of rice, in the second square there is two grains, in the third square there is four grains and so on. How many grains are there in the whole chessboard when all squares are filled using this pattern?*"
   ]
  },
  {
   "cell_type": "code",
   "execution_count": 23,
   "metadata": {},
   "outputs": [
    {
     "name": "stdout",
     "output_type": "stream",
     "text": [
      "18446744073709551616 nuber of grains\n"
     ]
    }
   ],
   "source": [
    "rice = 1\n",
    "for i in range(1,65):\n",
    "    rice = rice*2\n",
    "print(f\"{rice} nuber of grains\")"
   ]
  }
 ],
 "metadata": {
  "kernelspec": {
   "display_name": "Python 3",
   "language": "python",
   "name": "python3"
  },
  "language_info": {
   "codemirror_mode": {
    "name": "ipython",
    "version": 3
   },
   "file_extension": ".py",
   "mimetype": "text/x-python",
   "name": "python",
   "nbconvert_exporter": "python",
   "pygments_lexer": "ipython3",
   "version": "3.11.4"
  },
  "orig_nbformat": 4
 },
 "nbformat": 4,
 "nbformat_minor": 2
}
