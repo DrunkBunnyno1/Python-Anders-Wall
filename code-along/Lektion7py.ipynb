{
 "cells": [
  {
   "cell_type": "markdown",
   "metadata": {},
   "source": [
    "# List\n",
    "\n",
    "**[]** *store mutipul valus in one varibul*\n",
    "- list items can be any typ, an can cntian difrent data"
   ]
  },
  {
   "cell_type": "code",
   "execution_count": 12,
   "metadata": {},
   "outputs": [
    {
     "name": "stdout",
     "output_type": "stream",
     "text": [
      "4\n",
      "fruts.count('apple') = 1\n",
      "['apple', 'bannan', 'cherry', 'orange', 'melon', 'kiwi']\n",
      "['apple', 'bannan', 'cherry', 'orange', 'melon', 'kiwi', 'pear', 'citron', 'coconut']\n"
     ]
    }
   ],
   "source": [
    "fruts =[\"apple\", \"bannan\", \"cherry\", \"orange\"]\n",
    "print(f\"{len(fruts)}\") # use len to get number of things in list\n",
    "print(f\"{fruts.count('apple') = }\") # cunt acorensy of valu\n",
    "\n",
    "\n",
    "fruts.append(\"melon\") # add objekts in end of list\n",
    "fruts.append(\"kiwi\")\n",
    "print(fruts)\n",
    "\n",
    "more_fruuts = [\"pear\", \"citron\",\"coconut\"]\n",
    "fruts += more_fruuts #add list more fruts to list fruts\n",
    "print(fruts)\n",
    "\n"
   ]
  },
  {
   "cell_type": "code",
   "execution_count": 19,
   "metadata": {},
   "outputs": [
    {
     "name": "stdout",
     "output_type": "stream",
     "text": [
      "The list conteins 3 collors.\n",
      "Ur list of collors: ['grean', 'blu', 'reed']\n"
     ]
    }
   ],
   "source": [
    "collers = []\n",
    "collor = \"n\"\n",
    "while collor != \"\":\n",
    "    collor = input(\"Wrighet a collor to ad to teh list of collers:\")\n",
    "    if collor == \"\":\n",
    "         print(f\"The list conteins {len(collers)} collors.\\nUr list of collors: {collers}\")\n",
    "    else:\n",
    "        collers.append(collor)\n",
    "\n",
    "    # while (input_sring := input(\"add color\") and input_string =! \"\")\n",
    "    # colors.apend(input_string)\n",
    "    # print(colors)\n",
    "    # print(len(colors)) #\n",
    "\n"
   ]
  },
  {
   "cell_type": "markdown",
   "metadata": {},
   "source": [
    "# Indexering\n",
    "- *list items are indexd, the first item as index[0], the secund item has index [1]....*\n",
    "- *make shore index exixt or u get index out of range*\n",
    "- *legntning indexing -1 refers to last item, -2 refers to secund last item......*\n",
    "_ *slising Såecifing a range of index return a new list with specifade item. (start:stop:step)"
   ]
  },
  {
   "cell_type": "code",
   "execution_count": 23,
   "metadata": {},
   "outputs": [],
   "source": [
    "fruts =[\"apple\", \"bannan\", \"cherry\", \"orange\"]\n"
   ]
  },
  {
   "cell_type": "markdown",
   "metadata": {},
   "source": [
    "# loping througe a list\n",
    "- *"
   ]
  },
  {
   "cell_type": "code",
   "execution_count": 36,
   "metadata": {},
   "outputs": [
    {
     "name": "stdout",
     "output_type": "stream",
     "text": [
      "0: apple\n",
      "1: bannan\n",
      "2: cherry\n",
      "3: orange\n"
     ]
    }
   ],
   "source": [
    "for index, frut in enumerate(fruts):\n",
    "    print(f\"{index}: {frut}\")\n"
   ]
  },
  {
   "cell_type": "markdown",
   "metadata": {},
   "source": [
    "# List coprehantion\n",
    "\n",
    "- List coprehention offers a shorter syntax when u wahnt to create new list bsed on whalus in list, \n"
   ]
  },
  {
   "cell_type": "code",
   "execution_count": 41,
   "metadata": {},
   "outputs": [
    {
     "name": "stdout",
     "output_type": "stream",
     "text": [
      "['apple', 'bannan', 'orange']\n",
      "x =[0, 1, 2, 3, 4, 5, 6, 7, 8, 9]\n",
      "y =[0, 1, 4, 9, 16, 25, 36, 49, 64, 81]\n"
     ]
    }
   ],
   "source": [
    "fruts =[\"apple\", \"bannan\", \"cherry\", \"orange\"]\n",
    "\n",
    "new_list = [frut for frut in fruts if \"a\" in frut]\n",
    "print(new_list)\n",
    "\n",
    "x = list(range(10))\n",
    "print(f\"{x =}\")\n",
    "\n",
    "y = [item**2 for item in x]\n",
    "print(f\"{y =}\")"
   ]
  },
  {
   "cell_type": "code",
   "execution_count": 43,
   "metadata": {},
   "outputs": [
    {
     "name": "stdout",
     "output_type": "stream",
     "text": [
      "['Bannan!', 'Apple!', 'Kiwi!', 'Melon!', 'Lemon!']\n"
     ]
    }
   ],
   "source": [
    "fruts = [\"Bannan\", \"Apple\", \"Kiwi\", \"Melon\", \"Lemon\"]\n",
    "new_fruts = [frut +\"!\" for frut in fruts]\n",
    "\n",
    "print(f\"{new_fruts}\")"
   ]
  },
  {
   "cell_type": "markdown",
   "metadata": {},
   "source": [
    "# minni uppgit 3\n",
    "\n",
    "- **skapa en lista med alla heltal från 0 till 100**\n",
    "- **skapa en ny lista från den gammla listan med enbart heltal**"
   ]
  },
  {
   "cell_type": "code",
   "execution_count": 68,
   "metadata": {},
   "outputs": [
    {
     "name": "stdout",
     "output_type": "stream",
     "text": [
      "[0, 1, 2, 3, 4, 5, 6, 7, 8, 9, 10, 11, 12, 13, 14, 15, 16, 17, 18, 19, 20, 21, 22, 23, 24, 25, 26, 27, 28, 29, 30, 31, 32, 33, 34, 35, 36, 37, 38, 39, 40, 41, 42, 43, 44, 45, 46, 47, 48, 49, 50, 51, 52, 53, 54, 55, 56, 57, 58, 59, 60, 61, 62, 63, 64, 65, 66, 67, 68, 69, 70, 71, 72, 73, 74, 75, 76, 77, 78, 79, 80, 81, 82, 83, 84, 85, 86, 87, 88, 89, 90, 91, 92, 93, 94, 95, 96, 97, 98, 99, 100]\n",
      "[0, 2, 4, 6, 8, 10, 12, 14, 16, 18, 20, 22, 24, 26, 28, 30, 32, 34, 36, 38, 40, 42, 44, 46, 48, 50, 52, 54, 56, 58, 60, 62, 64, 66, 68, 70, 72, 74, 76, 78, 80, 82, 84, 86, 88, 90, 92, 94, 96, 98, 100]\n",
      "[0, 2, 4, 6, 8, 10, 12, 14, 16, 18, 20, 22, 24, 26, 28, 30, 32, 34, 36, 38, 40, 42, 44, 46, 48, 50, 52, 54, 56, 58, 60, 62, 64, 66, 68, 70, 72, 74, 76, 78, 80, 82, 84, 86, 88, 90, 92, 94, 96, 98, 100]\n",
      "['Apple', 'Melon', 'Lemon']\n"
     ]
    }
   ],
   "source": [
    "\n",
    "old_number_list = list(range(101))\n",
    "print(f\"{old_number_list}\")\n",
    "new_number_list1 = [number for number in old_number_list[::2]]\n",
    "\n",
    "print(f\"{new_number_list1}\")\n",
    "\n",
    "\n",
    "new_number_list2 = [number for number in old_number_list if number % 2 == 0]\n",
    "print(f\"{new_number_list2}\")\n",
    "\n",
    "fruts = [\"Bannan\", \"Apple\", \"Kiwi\", \"Melon\", \"Lemon\"]\n",
    "new_fruts = [frut for frut in fruts if len(frut) == 5]\n",
    "print(f\"{new_fruts}\")\n",
    "\n",
    "\n"
   ]
  }
 ],
 "metadata": {
  "kernelspec": {
   "display_name": "Python 3",
   "language": "python",
   "name": "python3"
  },
  "language_info": {
   "codemirror_mode": {
    "name": "ipython",
    "version": 3
   },
   "file_extension": ".py",
   "mimetype": "text/x-python",
   "name": "python",
   "nbconvert_exporter": "python",
   "pygments_lexer": "ipython3",
   "version": "3.11.5"
  },
  "orig_nbformat": 4
 },
 "nbformat": 4,
 "nbformat_minor": 2
}
