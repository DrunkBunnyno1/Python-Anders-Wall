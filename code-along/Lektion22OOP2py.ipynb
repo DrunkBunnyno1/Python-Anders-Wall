{
 "cells": [
  {
   "cell_type": "markdown",
   "metadata": {},
   "source": [
    "### Propetis (Property, sv Egenskap)\n",
    "\n",
    "- @= decorater\n",
    "- A property is a python construktur  ( or OOP concept)  that works similar to an attrebute, whit the difrence that an atribute storse ( and reads) the valu directly to memory, while property uses geter and seter metohods to change the values of the property.\n",
    "\n",
    "- from \"outside\" (of teh class definiton) when a property of an objekt is set , the objeky intenal setter metod will be calde to handle the operations. this metod is marked i nthe calss defirantior ba a decorator calde {name}.seter (wher \"name\" is the name of property)\n",
    "\n",
    "- when the property is read ( from the \"outside) ,teh objekts getter metod will be called to return a value."
   ]
  },
  {
   "cell_type": "code",
   "execution_count": 26,
   "metadata": {},
   "outputs": [],
   "source": [
    "class Employee:\n",
    "    def __init__(self, name, salary):\n",
    "        self.name = name\n",
    "        self._salary = 0 if salary < 0 else salary\n",
    "\n",
    "    # Getter metohod\n",
    "    @property\n",
    "    def salary(self):\n",
    "        return self._salary\n",
    "    \n",
    "    # Setter Metohd\n",
    "    @salary.setter\n",
    "    def salary(self, salary):\n",
    "        self._salary = 0 if salary < 0 else salary\n",
    "\n",
    "    \n",
    "\n",
    "    "
   ]
  },
  {
   "cell_type": "code",
   "execution_count": 28,
   "metadata": {},
   "outputs": [
    {
     "name": "stdout",
     "output_type": "stream",
     "text": [
      "-5000\n"
     ]
    }
   ],
   "source": [
    "employee = Employee(\"Anders\", 40000)\n",
    "employee2 = Employee(\"Bertil\", -40000)\n",
    "\n",
    "\n",
    "\n",
    "employee.salary = - 5000\n",
    "print(employee.salary)\n",
    "\n",
    "\n",
    "# employee.salary = 50000\n",
    "# employee2.salary = -40000\n",
    "\n",
    "# employee._salary = -50\n",
    "\n",
    "\n",
    "# print(employee.get_salary())\n",
    "# print(employee2.get_salary())\n"
   ]
  }
 ],
 "metadata": {
  "kernelspec": {
   "display_name": "Python-Anders-Wall-J6Nhmzgy",
   "language": "python",
   "name": "python3"
  },
  "language_info": {
   "codemirror_mode": {
    "name": "ipython",
    "version": 3
   },
   "file_extension": ".py",
   "mimetype": "text/x-python",
   "name": "python",
   "nbconvert_exporter": "python",
   "pygments_lexer": "ipython3",
   "version": "3.11.5"
  },
  "orig_nbformat": 4
 },
 "nbformat": 4,
 "nbformat_minor": 2
}
