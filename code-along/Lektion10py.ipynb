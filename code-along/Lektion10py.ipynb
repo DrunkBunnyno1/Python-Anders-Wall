{
 "cells": [
  {
   "cell_type": "markdown",
   "metadata": {},
   "source": [
    "### Dictionaries\n",
    "\n",
    "- Dictionaries are used to store data in key-value pairs.\n",
    "- Keys are used to acces values, and must be uniqe\n",
    "- only imuteble types (eg. string, int, bool) can be used as keys.\n"
   ]
  },
  {
   "cell_type": "code",
   "execution_count": 30,
   "metadata": {},
   "outputs": [
    {
     "name": "stdout",
     "output_type": "stream",
     "text": [
      "(len(teacher) = 4\n",
      "len(teacher['languages'][-1]) = 10\n",
      "teacher = {'firstename': 'Fredrik', 'age': 42, 'languages': ['python', 'C#', 'JavaScript'], 'length': 1.8}\n",
      "removed_value = 'Johansson'\n"
     ]
    }
   ],
   "source": [
    "\n",
    "empty_dictionary = {}\n",
    "teacher ={\n",
    "    \"firstname\": \"Fredrik\",\n",
    "    \"lastname\": \"Johansson\",\n",
    "    \"age\" : 42,\n",
    "    \"languages\": [\"python\",\"C#\", \"JavaScript\"]\n",
    "}\n",
    "\n",
    "print(f\"({len(teacher) = }\")\n",
    "print(f\"{len(teacher['languages'][-1]) = }\")\n",
    "\n",
    "teacher[\"length\"] = 1.8\n",
    "\n",
    "removed_value = teacher.pop(\"lastname\")\n",
    "\n",
    "print(f\"{teacher = }\")\n",
    "print(f\"{removed_value = }\")"
   ]
  },
  {
   "cell_type": "markdown",
   "metadata": {},
   "source": [
    "### get value using key"
   ]
  },
  {
   "cell_type": "code",
   "execution_count": 38,
   "metadata": {},
   "outputs": [
    {
     "name": "stdout",
     "output_type": "stream",
     "text": [
      "defult\n"
     ]
    }
   ],
   "source": [
    "key = input(\"Enter key\")\n",
    "print(teacher.get(key, \"defult\"))"
   ]
  },
  {
   "cell_type": "markdown",
   "metadata": {},
   "source": []
  },
  {
   "cell_type": "code",
   "execution_count": 41,
   "metadata": {},
   "outputs": [
    {
     "name": "stdout",
     "output_type": "stream",
     "text": [
      "Fredrik\n",
      "42\n",
      "['python', 'C#', 'JavaScript']\n",
      "1.8\n",
      "\n",
      "firstename = Fredrik\n",
      "age = 42\n",
      "languages = ['python', 'C#', 'JavaScript']\n",
      "length = 1.8\n",
      "\n",
      "firstename, Fredrik\n",
      "age, 42\n",
      "languages, ['python', 'C#', 'JavaScript']\n",
      "length, 1.8\n"
     ]
    }
   ],
   "source": [
    "for value in teacher.values():\n",
    "    print(value)\n",
    "print()\n",
    "for key in teacher:\n",
    "    print(f\"{key} = {teacher[key]}\")\n",
    "print()\n",
    "for key, value in teacher.items():\n",
    "    print(f\"{key}, {value}\")"
   ]
  }
 ],
 "metadata": {
  "kernelspec": {
   "display_name": "Python 3",
   "language": "python",
   "name": "python3"
  },
  "language_info": {
   "codemirror_mode": {
    "name": "ipython",
    "version": 3
   },
   "file_extension": ".py",
   "mimetype": "text/x-python",
   "name": "python",
   "nbconvert_exporter": "python",
   "pygments_lexer": "ipython3",
   "version": "3.11.4"
  },
  "orig_nbformat": 4
 },
 "nbformat": 4,
 "nbformat_minor": 2
}
