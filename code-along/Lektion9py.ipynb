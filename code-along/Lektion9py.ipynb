{
 "cells": [
  {
   "cell_type": "markdown",
   "metadata": {},
   "source": []
  },
  {
   "cell_type": "markdown",
   "metadata": {},
   "source": [
    "# Funktions\n",
    " - **DRY** *Dont Repet Yourself*\n",
    " - A Funktion is a block of code which only runs when it is calld.\n",
    " - In pytong a funktion is defind using the **def** keyword\n",
    " - Definiton must com befor call.\n",
    " - To call a function, us the funktionname folowd by ()\n",
    " - U can pass data, known as argument into a function.\n",
    " - The number of arguments must normally match of parameters of definiton\n",
    " - A funktion may retur Data as a reult.\n"
   ]
  },
  {
   "cell_type": "code",
   "execution_count": 5,
   "metadata": {},
   "outputs": [
    {
     "name": "stdout",
     "output_type": "stream",
     "text": [
      "Hello Anders !\n",
      "Hello Fredrik !\n",
      "Hello Camilla !\n",
      "\n",
      "Hello bannan !\n",
      "Hello melon !\n",
      "Hello kivi !\n",
      "Hello citron !\n",
      "\n",
      "Hello Sebastian !\n"
     ]
    }
   ],
   "source": [
    "def greting(name):\n",
    "    print(\"Hello \" + name + \" !\")\n",
    "\n",
    "def gret_pepole(people):\n",
    "    for person in people:\n",
    "        greting(person)\n",
    "\n",
    "users = [\"Anders\", \"Fredrik\", \"Camilla\"]\n",
    "gret_pepole(users)\n",
    "\n",
    "print()\n",
    "fruits = [\"bannan\", \"melon\", \"kivi\", \"citron\" ]\n",
    "gret_pepole(fruits)\n",
    "\n",
    "print()\n",
    "greting(\"Sebastian\")"
   ]
  },
  {
   "cell_type": "markdown",
   "metadata": {},
   "source": [
    "## Exapel of fonktion returning value"
   ]
  },
  {
   "cell_type": "code",
   "execution_count": 7,
   "metadata": {},
   "outputs": [
    {
     "name": "stdout",
     "output_type": "stream",
     "text": [
      "Hello Anders !\n",
      "Hello Cammila !\n",
      "Hello Ludde !\n"
     ]
    }
   ],
   "source": [
    "def get_greting(name):\n",
    "    return \"Hello \" + name + \" !\"\n",
    "print(get_greting(\"Anders\"))\n",
    "print(get_greting(\"Cammila\"))\n",
    "\n",
    "my_greting = get_greting(\"Ludde\")\n",
    "print(my_greting)\n"
   ]
  },
  {
   "cell_type": "markdown",
   "metadata": {},
   "source": [
    "# Defult values"
   ]
  },
  {
   "cell_type": "code",
   "execution_count": 10,
   "metadata": {},
   "outputs": [
    {
     "name": "stdout",
     "output_type": "stream",
     "text": [
      "Hello Anders !\n",
      "Hello Anders !\n",
      "Hello Anders !\n",
      "Hello Anders !\n",
      "Hello Anders !\n",
      "Hello Ludde !\n",
      "Hello Betty !\n",
      "Hello Betty !\n",
      "Hello Betty !\n",
      "Hello Betty !\n",
      "Hello Betty !\n",
      "Hello Betty !\n",
      "Hello Betty !\n",
      "Hello Betty !\n",
      "Hello Betty !\n",
      "Hello Betty !\n",
      "Hello Betty !\n",
      "Hello Betty !\n",
      "Hello Betty !\n",
      "Hello Betty !\n",
      "Hello Betty !\n",
      "Hello Betty !\n",
      "Hello Betty !\n",
      "Hello Betty !\n",
      "Hello Betty !\n",
      "Hello Betty !\n",
      "Hello Betty !\n",
      "Hello Betty !\n",
      "Hello Betty !\n",
      "Hello Betty !\n",
      "Hello Betty !\n",
      "Hello Betty !\n",
      "Hello Betty !\n",
      "Hello Betty !\n",
      "Hello Betty !\n",
      "Hello Betty !\n",
      "Hello Betty !\n",
      "Hello Betty !\n",
      "Hello Betty !\n",
      "Hello Betty !\n",
      "Hello Betty !\n",
      "Hello Betty !\n",
      "Hello Betty !\n",
      "Hello Betty !\n",
      "Hello Betty !\n",
      "Hello Betty !\n",
      "Hello Betty !\n",
      "Hello Betty !\n",
      "Hello Betty !\n",
      "Hello Betty !\n",
      "Hello Betty !\n",
      "Hello Betty !\n",
      "Hello Betty !\n",
      "Hello Betty !\n",
      "Hello Betty !\n",
      "Hello Betty !\n",
      "Hello Betty !\n",
      "Hello Betty !\n",
      "Hello Betty !\n",
      "Hello Betty !\n",
      "Hello Betty !\n",
      "Hello Betty !\n",
      "Hello Betty !\n",
      "Hello Betty !\n",
      "Hello Betty !\n",
      "Hello Betty !\n",
      "Hello Betty !\n",
      "Hello Betty !\n",
      "Hello Betty !\n",
      "Hello Betty !\n",
      "Hello Betty !\n",
      "Hello Betty !\n",
      "Hello Betty !\n",
      "Hello Betty !\n",
      "Hello Betty !\n",
      "Hello Betty !\n",
      "Hello Betty !\n",
      "Hello Betty !\n",
      "Hello Betty !\n",
      "Hello Betty !\n",
      "Hello Betty !\n",
      "Hello Betty !\n",
      "Hello Betty !\n",
      "Hello Betty !\n",
      "Hello Betty !\n",
      "Hello Betty !\n",
      "Hello Betty !\n",
      "Hello Betty !\n",
      "Hello Betty !\n",
      "Hello Betty !\n",
      "Hello Betty !\n",
      "Hello Betty !\n",
      "Hello Betty !\n",
      "Hello Betty !\n",
      "Hello Betty !\n",
      "Hello Betty !\n",
      "Hello Betty !\n",
      "Hello Betty !\n",
      "Hello Betty !\n",
      "Hello Betty !\n",
      "Hello Betty !\n",
      "Hello Betty !\n",
      "Hello Betty !\n",
      "Hello Betty !\n",
      "Hello Betty !\n",
      "Hello Betty !\n"
     ]
    }
   ],
   "source": [
    "def great(name, number_of_times = 1):\n",
    "    for i in range(number_of_times):\n",
    "        print(\"Hello \" + name + \" !\")\n",
    "great(\"Anders\", 5)\n",
    "great(\"Ludde\")\n",
    "great(\"Betty\", 100)"
   ]
  }
 ],
 "metadata": {
  "kernelspec": {
   "display_name": "Python 3",
   "language": "python",
   "name": "python3"
  },
  "language_info": {
   "codemirror_mode": {
    "name": "ipython",
    "version": 3
   },
   "file_extension": ".py",
   "mimetype": "text/x-python",
   "name": "python",
   "nbconvert_exporter": "python",
   "pygments_lexer": "ipython3",
   "version": "3.11.4"
  },
  "orig_nbformat": 4
 },
 "nbformat": 4,
 "nbformat_minor": 2
}
