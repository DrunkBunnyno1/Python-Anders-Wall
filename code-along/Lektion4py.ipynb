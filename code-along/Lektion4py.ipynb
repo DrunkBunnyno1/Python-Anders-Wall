{
 "cells": [
  {
   "cell_type": "markdown",
   "metadata": {},
   "source": [
    "# If satments \n",
    "- **if** Esential part of \"if\" statment\n",
    "- **elif** Zero, one or more\n",
    "- **else** Zero, one\n",
    "\n",
    "# Ternary operator\n",
    "A special operator that take 3 operators and returns on of those chioces if the midele expresion evaulate to tru or false\n",
    "(TrhuValue if expresion else FalseValue)"
   ]
  },
  {
   "cell_type": "code",
   "execution_count": 14,
   "metadata": {},
   "outputs": [
    {
     "name": "stdout",
     "output_type": "stream",
     "text": [
      "Yes\n",
      "Anders Wall\n",
      "3 3\n"
     ]
    }
   ],
   "source": [
    "x = 5\n",
    "\n",
    "if x < 10:\n",
    "    print(\"Yes\")\n",
    "elif x > 10:\n",
    "    print(\"no\")\n",
    "elif x == 5:\n",
    "    print(\"x = 5\")\n",
    "else:\n",
    "    print(\"Hej\")\n",
    "\n",
    "name = \"Anders\"\n",
    "lastname = \"Wall\" if name == \"Anders\" else \"???\"\n",
    "\n",
    "print(f\"{name} {lastname}\")\n",
    "\n",
    "name = input(\"Skriv in ditt namn: \")\n",
    "lastname = input(\"Skriv ditt efternamn: \") if not name == \"\" else \"???\"\n",
    "\n",
    "print(f\"{name} {lastname}\")\n"
   ]
  }
 ],
 "metadata": {
  "kernelspec": {
   "display_name": "Python 3",
   "language": "python",
   "name": "python3"
  },
  "language_info": {
   "codemirror_mode": {
    "name": "ipython",
    "version": 3
   },
   "file_extension": ".py",
   "mimetype": "text/x-python",
   "name": "python",
   "nbconvert_exporter": "python",
   "pygments_lexer": "ipython3",
   "version": "3.11.4"
  },
  "orig_nbformat": 4
 },
 "nbformat": 4,
 "nbformat_minor": 2
}
