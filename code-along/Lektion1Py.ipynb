{
 "cells": [
  {
   "cell_type": "markdown",
   "metadata": {},
   "source": [
    "# Data Types\n",
    "- **String** (text)\n",
    "- **Int** (Integer, Heltal)\n",
    "- **Float** (Footing point, sv Flyttal, Decimaltal)\n",
    "- **Bool** (boolean, True/False)\n"
   ]
  },
  {
   "cell_type": "code",
   "execution_count": 5,
   "metadata": {},
   "outputs": [
    {
     "name": "stdout",
     "output_type": "stream",
     "text": [
      "Anders\n",
      "8\n",
      "3.14\n",
      "True\n"
     ]
    },
    {
     "data": {
      "text/plain": [
       "bool"
      ]
     },
     "execution_count": 5,
     "metadata": {},
     "output_type": "execute_result"
    }
   ],
   "source": [
    "name = \"Anders\"\n",
    "# name, note book skriver sista raden  kan likställas med print\n",
    "print(name)\n",
    "name = 8\n",
    "print(name)\n",
    "myfloat = 3.14\n",
    "print(myfloat)\n",
    "mybool = True\n",
    "print(mybool)\n",
    "type(mybool)\n",
    "\n"
   ]
  },
  {
   "cell_type": "markdown",
   "metadata": {},
   "source": [
    "# Literal values\n",
    "- \"Hello\" **string** can use singel and dubbel quotes (Case sensetiv)\n",
    "- 5 **int**\n",
    "- 4.5 **float**\n",
    "- True **Bool**"
   ]
  },
  {
   "cell_type": "markdown",
   "metadata": {},
   "source": [
    "# Varibules\n",
    "- Case-sensetiv\n",
    "- Created when firste assined, dosent need to be declarde\n",
    "- Dynamic typing, type is referred from assingment, can be re-typed.\n",
    "- cast tipe with: str(), int(), float(), bool()\n",
    "- Get type with type()\n",
    "- Use del() to delete varibules "
   ]
  },
  {
   "cell_type": "code",
   "execution_count": 6,
   "metadata": {},
   "outputs": [
    {
     "name": "stdout",
     "output_type": "stream",
     "text": [
      "56 56\n",
      "<class 'str'>\n",
      "<class 'int'>\n"
     ]
    },
    {
     "ename": "NameError",
     "evalue": "name 'mynumber' is not defined",
     "output_type": "error",
     "traceback": [
      "\u001b[1;31m---------------------------------------------------------------------------\u001b[0m",
      "\u001b[1;31mNameError\u001b[0m                                 Traceback (most recent call last)",
      "Cell \u001b[1;32mIn[6], line 9\u001b[0m\n\u001b[0;32m      6\u001b[0m \u001b[39mprint\u001b[39m(\u001b[39mtype\u001b[39m(mynumber2))\n\u001b[0;32m      8\u001b[0m \u001b[39mdel\u001b[39;00m(mynumber)\n\u001b[1;32m----> 9\u001b[0m \u001b[39mprint\u001b[39m(mynumber)\n",
      "\u001b[1;31mNameError\u001b[0m: name 'mynumber' is not defined"
     ]
    }
   ],
   "source": [
    "mynumber = \"56\"\n",
    "mynumber2 = int(mynumber)\n",
    "print(mynumber2, mynumber)\n",
    "\n",
    "print(type(mynumber))\n",
    "print(type(mynumber2))\n",
    "\n",
    "del(mynumber)\n",
    "print(mynumber)"
   ]
  },
  {
   "cell_type": "code",
   "execution_count": 4,
   "metadata": {},
   "outputs": [
    {
     "name": "stdout",
     "output_type": "stream",
     "text": [
      "anders\n"
     ]
    }
   ],
   "source": [
    "name = input(\"Enter ur name: \")\n",
    "print(name)"
   ]
  }
 ],
 "metadata": {
  "kernelspec": {
   "display_name": "Python 3",
   "language": "python",
   "name": "python3"
  },
  "language_info": {
   "codemirror_mode": {
    "name": "ipython",
    "version": 3
   },
   "file_extension": ".py",
   "mimetype": "text/x-python",
   "name": "python",
   "nbconvert_exporter": "python",
   "pygments_lexer": "ipython3",
   "version": "3.11.5"
  },
  "orig_nbformat": 4
 },
 "nbformat": 4,
 "nbformat_minor": 2
}
