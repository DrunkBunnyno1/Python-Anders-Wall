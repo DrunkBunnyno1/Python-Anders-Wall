{
 "cells": [
  {
   "cell_type": "markdown",
   "metadata": {},
   "source": [
    "## Matplotlib"
   ]
  },
  {
   "cell_type": "code",
   "execution_count": 2,
   "metadata": {},
   "outputs": [
    {
     "ename": "ModuleNotFoundError",
     "evalue": "No module named 'matplotlib'",
     "output_type": "error",
     "traceback": [
      "\u001b[1;31m---------------------------------------------------------------------------\u001b[0m",
      "\u001b[1;31mModuleNotFoundError\u001b[0m                       Traceback (most recent call last)",
      "Cell \u001b[1;32mIn[2], line 1\u001b[0m\n\u001b[1;32m----> 1\u001b[0m \u001b[39mimport\u001b[39;00m \u001b[39mmatplotlib\u001b[39;00m\u001b[39m.\u001b[39;00m\u001b[39mpyplot\u001b[39;00m \u001b[39mas\u001b[39;00m \u001b[39mplt\u001b[39;00m\n\u001b[0;32m      5\u001b[0m x \u001b[39m=\u001b[39m \u001b[39mlist\u001b[39m(\u001b[39mrange\u001b[39m(\u001b[39m-\u001b[39m\u001b[39m10\u001b[39m,\u001b[39m11\u001b[39m))\n\u001b[0;32m      6\u001b[0m y \u001b[39m=\u001b[39m x\n",
      "\u001b[1;31mModuleNotFoundError\u001b[0m: No module named 'matplotlib'"
     ]
    }
   ],
   "source": [
    "import matplotlib.pyplot as plt\n",
    "\n",
    "\n",
    "\n",
    "x = list(range(-10,11))\n",
    "y = [value**2 for value in x]\n",
    "y2 = [value**3 for value in x]\n",
    "\n",
    "print(f\"{x =}\")\n",
    "print(f\"{y =}\")\n",
    "plt.legend(x, y, label = \"x**2\")\n",
    "plt.xlabel(\"X-value\")\n",
    "plt.plot(x,y)"
   ]
  },
  {
   "cell_type": "code",
   "execution_count": 3,
   "metadata": {},
   "outputs": [
    {
     "ename": "NameError",
     "evalue": "name 'plt' is not defined",
     "output_type": "error",
     "traceback": [
      "\u001b[1;31m---------------------------------------------------------------------------\u001b[0m",
      "\u001b[1;31mNameError\u001b[0m                                 Traceback (most recent call last)",
      "Cell \u001b[1;32mIn[3], line 5\u001b[0m\n\u001b[0;32m      1\u001b[0m x \u001b[39m=\u001b[39m [\u001b[39m0\u001b[39m, \u001b[39m-\u001b[39m\u001b[39m100\u001b[39m, \u001b[39m25\u001b[39m, \u001b[39m65\u001b[39m, \u001b[39m-\u001b[39m\u001b[39m323\u001b[39m]\n\u001b[0;32m      2\u001b[0m y \u001b[39m=\u001b[39m [\u001b[39m0\u001b[39m, \u001b[39m3\u001b[39m, \u001b[39m7\u001b[39m, \u001b[39m3\u001b[39m, \u001b[39m9\u001b[39m]\n\u001b[1;32m----> 5\u001b[0m plt\u001b[39m.\u001b[39mtitle(\u001b[39m\"\u001b[39m\u001b[39mMy Graph\u001b[39m\u001b[39m\"\u001b[39m)\n\u001b[0;32m      6\u001b[0m plt\u001b[39m.\u001b[39mxlabel(\u001b[39m\"\u001b[39m\u001b[39mX-value\u001b[39m\u001b[39m\"\u001b[39m)\n\u001b[0;32m      7\u001b[0m plt\u001b[39m.\u001b[39mylabel(\u001b[39m\"\u001b[39m\u001b[39mY-value\u001b[39m\u001b[39m\"\u001b[39m)\n",
      "\u001b[1;31mNameError\u001b[0m: name 'plt' is not defined"
     ]
    }
   ],
   "source": [
    "x = [0, -100, 25, 65, -323]\n",
    "y = [0, 3, 7, 3, 9]\n",
    "\n",
    "\n",
    "plt.title(\"My Graph\")\n",
    "plt.xlabel(\"X-value\")\n",
    "plt.ylabel(\"Y-value\")\n",
    "plt.plot(x,y, color=\"red\", linestyle = \"dashed\", marker=\"o\")\n",
    "plt.axis([-50, 80, 2, 8])\n",
    "plt.plot(x,y)"
   ]
  },
  {
   "cell_type": "code",
   "execution_count": null,
   "metadata": {},
   "outputs": [],
   "source": [
    "x = list(range(-10,11))\n",
    "y = [value**2 for value in x]\n",
    "\n",
    "plt.scatter(x,y, marker=\"o\")"
   ]
  },
  {
   "cell_type": "markdown",
   "metadata": {},
   "source": [
    "### Bars"
   ]
  },
  {
   "cell_type": "code",
   "execution_count": null,
   "metadata": {},
   "outputs": [],
   "source": [
    "labels = [\"male, female\"]\n",
    "values = [15, 23]\n",
    "\n",
    "plt.bar(labels, values)"
   ]
  },
  {
   "cell_type": "code",
   "execution_count": null,
   "metadata": {},
   "outputs": [],
   "source": [
    "## pie charts"
   ]
  },
  {
   "cell_type": "code",
   "execution_count": null,
   "metadata": {},
   "outputs": [],
   "source": [
    "plt.pie(values, labels=labels)"
   ]
  },
  {
   "cell_type": "markdown",
   "metadata": {},
   "source": [
    "### Sub plots"
   ]
  },
  {
   "cell_type": "code",
   "execution_count": null,
   "metadata": {},
   "outputs": [],
   "source": [
    "x = list(range(-10,11))\n",
    "\n",
    "y = [value**2 for value in x]\n",
    "y2 = [value**3 for value in x]\n",
    "\n",
    "fig, axs = plt.subplots(1,2)\n",
    "axs[0].plot(x,y)\n",
    "axs[1].plot(x,y)"
   ]
  }
 ],
 "metadata": {
  "kernelspec": {
   "display_name": "Python 3",
   "language": "python",
   "name": "python3"
  },
  "language_info": {
   "codemirror_mode": {
    "name": "ipython",
    "version": 3
   },
   "file_extension": ".py",
   "mimetype": "text/x-python",
   "name": "python",
   "nbconvert_exporter": "python",
   "pygments_lexer": "ipython3",
   "version": "3.11.4"
  },
  "orig_nbformat": 4
 },
 "nbformat": 4,
 "nbformat_minor": 2
}
