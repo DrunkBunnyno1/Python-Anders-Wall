{
 "cells": [
  {
   "cell_type": "markdown",
   "metadata": {},
   "source": [
    "### Debugging\n",
    "\n",
    "- Finding and corecting errors (Bugs) in code\n",
    "\n",
    "**Break point**\n",
    "\n",
    "*In all IDE (Intergrated Devolopment Enviroment)* the developer has the possibility to debug code by asteping through instruktions one by one and look att the states (memory/variables) for each step\n",
    "\n",
    "We can set one or mutiple break points at any line in ouer code when starting the program in debug mode the code will run upp untill it hits the first breakpoint. From ther we can inspekt the curent state of ouer program, and we can chose to either run our program until it hits the next braeakpoint, or we can use the step over function of debugger to step one instruktion at a time"
   ]
  },
  {
   "cell_type": "code",
   "execution_count": null,
   "metadata": {},
   "outputs": [],
   "source": [
    "def greet(n):\n",
    "    for i in range(n):\n",
    "        print(\"Hello\")\n",
    "\n",
    "a = 5\n",
    "b = 3\n",
    "c = a+b\n",
    "my_list =[4,5,8,8]\n",
    "my_list.append(\"Hello\")\n",
    "\n",
    "greet(b)\n",
    "print(c)"
   ]
  },
  {
   "cell_type": "markdown",
   "metadata": {},
   "source": [
    "Jag behöver ta information från användare\n",
    "Spara informationen från användaren på något sätt\n",
    "sedna begöver jag titta på informationen och gämföra den med informationen numer------numer\n",
    "jag behöver även kontrolera så boksatv ej är med inte finns mellan nummer & nummer\n",
    "jag behöver sedan plocka ut den och markera den om den inte har x immelan\n",
    "sedan behöver jag lägga tillbaka den där den var och ta bort markering så att det inte markeras något utan för på resterand information\n",
    "sedan behöver jag ge den information jag fått till användren flera gånger, med endast ny markering på informationen "
   ]
  },
  {
   "cell_type": "code",
   "execution_count": 35,
   "metadata": {},
   "outputs": [
    {
     "name": "stdout",
     "output_type": "stream",
     "text": [
      "['2', '9', '5', '3', '5', '1', '2', '3', '', '4', '8', '7', '2', '3', '4', '8', '7', '5', '9', '7', '6', '4', '5', '7', '2', '3', '6', '4', '5']\n",
      "2\n",
      "9\n",
      "5\n",
      "3\n",
      "5\n",
      "1\n",
      "2\n",
      "3\n",
      "\n",
      "4\n",
      "8\n",
      "7\n",
      "2\n",
      "3\n",
      "4\n",
      "8\n",
      "7\n",
      "5\n",
      "9\n",
      "7\n",
      "6\n",
      "4\n",
      "5\n",
      "7\n",
      "2\n",
      "3\n",
      "6\n",
      "4\n",
      "5\n"
     ]
    }
   ],
   "source": [
    "user_input = \"29535123p48723487597645723645\"#input(\"Hej skriv slumpvis utvalda bokstäver och sifror: \")\n",
    "nummer_list = []\n",
    "\n",
    "nummer = \"\"\n",
    "\n",
    "for i in user_input:\n",
    "    for j in user_input[user_input.find(i)]:\n",
    "        #start = i  \n",
    "        if i in \"abcdefghijklmnopqrstuvxyzåäö\":\n",
    "            nummer_list.append(nummer)            \n",
    "            nummer = \"\"\n",
    "        elif i != j:\n",
    "            \n",
    "            nummer =  nummer + i  \n",
    "        elif i == j:\n",
    "            \n",
    "            nummer = nummer + j\n",
    "            nummer_list.append(nummer)\n",
    "            nummer = \"\"\n",
    "            \n",
    "    \n",
    "    \n",
    "        \n",
    "   \n",
    "print(nummer_list)\n",
    "for i in nummer_list:\n",
    "    print(f\"{i}\")"
   ]
  },
  {
   "cell_type": "code",
   "execution_count": 3,
   "metadata": {},
   "outputs": [
    {
     "name": "stdout",
     "output_type": "stream",
     "text": [
      "Hej\n",
      "\u001b[34m\n",
      "Hej I gen\n",
      "\u001b[41m\n",
      "Hej\n",
      "Hej\n"
     ]
    }
   ],
   "source": [
    "from colorama import Fore, Back, Style\n",
    "\n",
    "print(\"Hej\")\n",
    "print(Fore.BLUE)\n",
    "print(\"Hej I gen\")\n",
    "print(Back.RED)\n",
    "print(\"Hej\")\n",
    "Style.RESET_ALL\n",
    "print(\"Hej\")\n"
   ]
  },
  {
   "cell_type": "code",
   "execution_count": 15,
   "metadata": {},
   "outputs": [
    {
     "name": "stdout",
     "output_type": "stream",
     "text": [
      "1\n"
     ]
    }
   ],
   "source": [
    "list = []\n",
    "list.append(1)\n",
    "for i in list:\n",
    "    print(f\"{i}\")"
   ]
  },
  {
   "cell_type": "code",
   "execution_count": 38,
   "metadata": {},
   "outputs": [
    {
     "name": "stdout",
     "output_type": "stream",
     "text": [
      "[1]\n"
     ]
    }
   ],
   "source": [
    "a = [1,2,3,4]\n",
    "print(a[0:1])"
   ]
  },
  {
   "cell_type": "code",
   "execution_count": 25,
   "metadata": {},
   "outputs": [
    {
     "name": "stdout",
     "output_type": "stream",
     "text": [
      "['29', '3', '123p48723487', '9764', '72364', '']\n"
     ]
    }
   ],
   "source": [
    "user_input = \"29535123p48723487597645723645\"\n",
    "for i in user_input:\n",
    "    number = user_input.split(i)\n",
    "print(number)"
   ]
  }
 ],
 "metadata": {
  "kernelspec": {
   "display_name": "Python-Anders-Wall-ATCBtCeT",
   "language": "python",
   "name": "python3"
  },
  "language_info": {
   "codemirror_mode": {
    "name": "ipython",
    "version": 3
   },
   "file_extension": ".py",
   "mimetype": "text/x-python",
   "name": "python",
   "nbconvert_exporter": "python",
   "pygments_lexer": "ipython3",
   "version": "3.11.4"
  },
  "orig_nbformat": 4
 },
 "nbformat": 4,
 "nbformat_minor": 2
}
