{
 "cells": [
  {
   "cell_type": "markdown",
   "metadata": {},
   "source": [
    "### sets\n",
    "- set items are unorded, unchangabule, and do not allow duplicate values.\n",
    "- set item can be any data type, and can contain different data type.\n",
    "- set itam can be of any data typ and can contain difrent data type. "
   ]
  },
  {
   "cell_type": "code",
   "execution_count": 19,
   "metadata": {},
   "outputs": [
    {
     "name": "stdout",
     "output_type": "stream",
     "text": [
      "len(a) = 4\n",
      "1\n"
     ]
    }
   ],
   "source": [
    "empty_set = set()\n",
    "\n",
    "a = {1, 3, 4, 5, 3, 10}\n",
    "\n",
    "b =  a.pop()\n",
    "print(f\"{len(a) = }\")\n",
    "print(f\"{b}\")\n"
   ]
  },
  {
   "cell_type": "code",
   "execution_count": null,
   "metadata": {},
   "outputs": [],
   "source": [
    "fruits = [\"bannan\", \"melon\", \"qivi\", \"citron\",\"bannan\", \"melon\", \"qivi\", \"citron\",\"bannan\", \"melon\", \"qivi\", \"citron\"]\n",
    "print(\"set = list remove dubble\")"
   ]
  },
  {
   "cell_type": "markdown",
   "metadata": {},
   "source": [
    "### Combine sets\n",
    "\n",
    "sets can be combine in several ways:\n",
    "- Union retur a set that contians all items  from both set duplicates are excluded\n",
    "- interrsection Return set taht contians the items that exist in bothe set a and set b\n",
    "- diffrence return a set that containse the items taht only exist in set a and not set b\n",
    "- Symetric diffrens retur set that contins all items from both sets, exept items ar presente in both set"
   ]
  },
  {
   "cell_type": "code",
   "execution_count": 24,
   "metadata": {},
   "outputs": [
    {
     "name": "stdout",
     "output_type": "stream",
     "text": [
      "a ={1, 3, 4, 5, 9, 11, 12}\n",
      "b ={2, 4, 5, 6, 10, 11, 15}\n",
      "a.union(b,c) = {1, 2, 3, 4, 5, 6, 9, 10, 11, 12, 15, 17, 21}\n",
      "a.difference(b) ={1, 3, 12, 9}\n",
      "b.difference(a) ={2, 10, 6, 15}\n",
      "a.symmetric_difference(b) ={1, 2, 3, 6, 9, 10, 12, 15}\n"
     ]
    }
   ],
   "source": [
    "a = {1, 3, 4, 5, 9, 11, 12}\n",
    "b = {2, 4, 5, 6, 10, 11, 15}\n",
    "c = { 2,3,4,1,17,21}\n",
    "print(f\"{a =}\\n{b =}\")\n",
    "print(f\"{a.union(b,c) = }\")\n",
    "\n",
    "print(f\"{a.difference(b) =}\")\n",
    "print(f\"{b.difference(a) =}\")\n",
    "\n",
    "print(f\"{a.symmetric_difference(b) =}\")"
   ]
  }
 ],
 "metadata": {
  "kernelspec": {
   "display_name": "Python 3",
   "language": "python",
   "name": "python3"
  },
  "language_info": {
   "codemirror_mode": {
    "name": "ipython",
    "version": 3
   },
   "file_extension": ".py",
   "mimetype": "text/x-python",
   "name": "python",
   "nbconvert_exporter": "python",
   "pygments_lexer": "ipython3",
   "version": "3.11.4"
  },
  "orig_nbformat": 4
 },
 "nbformat": 4,
 "nbformat_minor": 2
}
