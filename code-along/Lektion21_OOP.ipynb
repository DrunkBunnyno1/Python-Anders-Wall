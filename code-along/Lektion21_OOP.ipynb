{
 "cells": [
  {
   "cell_type": "markdown",
   "metadata": {},
   "source": [
    "### OOP\n",
    "- A \"class is a blu print tht can be used to create objekts\n",
    "- An \"instace is the actually objekt contining data and methods"
   ]
  },
  {
   "cell_type": "code",
   "execution_count": 14,
   "metadata": {},
   "outputs": [],
   "source": [
    "student_a = {\"frirst_name\" : \"Fredrik\", \"last_name\" : \"Johansson\", \"age\" :  42, \"grade\" : 3.4}\n",
    "student_b = {\"first_name\" : \"Anna\", \"last_nme\":  \"Karlsson\",\"age\": 24, \"grade\": 4.2}\n",
    "\n",
    "students = [student_a, student_b]\n",
    "\n",
    "\n",
    "# def set_grade(student, grade):\n",
    "#     set_grade[\"grade\"] = 3.0\n",
    "\n",
    "\n",
    "# for student in students:\n",
    "#     set_grade(student, 3.0)\n",
    "\n",
    "# for student in students:\n",
    "#     set_grade(student, 3.0)\n",
    "    \n",
    "\n",
    "pass\n"
   ]
  },
  {
   "cell_type": "code",
   "execution_count": 26,
   "metadata": {},
   "outputs": [],
   "source": [
    "class Student:\n",
    "    def __init__(self, name, grade): # Metod funktion i klass\n",
    "        self.grade = grade\n",
    "        self.name = name\n",
    "\n",
    "    def set_grade(self, grade):\n",
    "        self.grade = grade"
   ]
  },
  {
   "cell_type": "code",
   "execution_count": 28,
   "metadata": {},
   "outputs": [
    {
     "name": "stdout",
     "output_type": "stream",
     "text": [
      "Fredrik\n",
      "Anna\n",
      "{'grade': 4.6, 'name': 'Fredrik', 'age': 42}\n",
      "{'grade': 4.5, 'name': 'Anna'}\n"
     ]
    }
   ],
   "source": [
    "student_a = Student(\"fredrik\", 4.6)\n",
    "student_b = Student(\"Anna\", 2.9)\n",
    "\n",
    "student_a.name = \"Fredrik\"\n",
    "student_a.age = 42\n",
    "student_b.name = \"Anna\"\n",
    "student_b.set_grade(4.5)\n",
    "\n",
    "print(student_a.name)\n",
    "print(student_b.name)\n",
    "print(student_a.__dict__)\n",
    "print(student_b.__dict__)"
   ]
  },
  {
   "cell_type": "code",
   "execution_count": 80,
   "metadata": {},
   "outputs": [
    {
     "ename": "AttributeError",
     "evalue": "'Cat' object has no attribute 'print_best_frend'",
     "output_type": "error",
     "traceback": [
      "\u001b[1;31m---------------------------------------------------------------------------\u001b[0m",
      "\u001b[1;31mAttributeError\u001b[0m                            Traceback (most recent call last)",
      "\u001b[1;32mc:\\Users\\waan2\\Documents\\GittHub\\Python-Anders-Wall\\code-along\\Lektion21_OOP.ipynb Cell 5\u001b[0m line \u001b[0;36m2\n\u001b[0;32m     <a href='vscode-notebook-cell:/c%3A/Users/waan2/Documents/GittHub/Python-Anders-Wall/code-along/Lektion21_OOP.ipynb#W5sZmlsZQ%3D%3D?line=22'>23</a>\u001b[0m     \u001b[39mprint\u001b[39m(\u001b[39mf\u001b[39m\u001b[39m\"\u001b[39m\u001b[39mi´m \u001b[39m\u001b[39m{\u001b[39;00m\u001b[39mself\u001b[39m\u001b[39m.\u001b[39mname\u001b[39m}\u001b[39;00m\u001b[39m, and my best frend is \u001b[39m\u001b[39m{\u001b[39;00m\u001b[39mself\u001b[39m\u001b[39m.\u001b[39mbestfrend\u001b[39m.\u001b[39mname\u001b[39m}\u001b[39;00m\u001b[39m\"\u001b[39m)\n\u001b[0;32m     <a href='vscode-notebook-cell:/c%3A/Users/waan2/Documents/GittHub/Python-Anders-Wall/code-along/Lektion21_OOP.ipynb#W5sZmlsZQ%3D%3D?line=24'>25</a>\u001b[0m \u001b[39mfor\u001b[39;00m i \u001b[39min\u001b[39;00m cats:\n\u001b[1;32m---> <a href='vscode-notebook-cell:/c%3A/Users/waan2/Documents/GittHub/Python-Anders-Wall/code-along/Lektion21_OOP.ipynb#W5sZmlsZQ%3D%3D?line=25'>26</a>\u001b[0m     i\u001b[39m.\u001b[39;49mprint_best_frend()\n\u001b[0;32m     <a href='vscode-notebook-cell:/c%3A/Users/waan2/Documents/GittHub/Python-Anders-Wall/code-along/Lektion21_OOP.ipynb#W5sZmlsZQ%3D%3D?line=27'>28</a>\u001b[0m \u001b[39mdef\u001b[39;00m \u001b[39mgreet\u001b[39m(\u001b[39mself\u001b[39m):\n\u001b[0;32m     <a href='vscode-notebook-cell:/c%3A/Users/waan2/Documents/GittHub/Python-Anders-Wall/code-along/Lektion21_OOP.ipynb#W5sZmlsZQ%3D%3D?line=28'>29</a>\u001b[0m     \u001b[39mprint\u001b[39m(\u001b[39mf\u001b[39m\u001b[39m\"\u001b[39m\u001b[39mHello, my name is \u001b[39m\u001b[39m{\u001b[39;00m\u001b[39mself\u001b[39m\u001b[39m.\u001b[39mname\u001b[39m}\u001b[39;00m\u001b[39m, and i\u001b[39m\u001b[39m'\u001b[39m\u001b[39mm \u001b[39m\u001b[39m{\u001b[39;00m\u001b[39mself\u001b[39m\u001b[39m.\u001b[39mage\u001b[39m}\u001b[39;00m\u001b[39m years old\u001b[39m\u001b[39m\"\u001b[39m)\n",
      "\u001b[1;31mAttributeError\u001b[0m: 'Cat' object has no attribute 'print_best_frend'"
     ]
    }
   ],
   "source": [
    "class Cat:\n",
    "    def __init__(self, name, age):# bestfrend):\n",
    "        self.name = name\n",
    "        self.age = age\n",
    "        #self.bestfrend = bestfrend\n",
    "my_cat = Cat(\"Misse\", 3)\n",
    "my_other_cat = Cat(\"Kisse\", 2)\n",
    "my_third_cat = Cat(\"Mjau\", 5)\n",
    "my_fourth_cat = Cat(\"jens\", 3)\n",
    "\n",
    "cats = [my_cat, my_other_cat, my_third_cat, my_fourth_cat]\n",
    "\n",
    "my_cat.bestfrend = my_third_cat.name\n",
    "my_third_cat.bestfrend = my_cat.name\n",
    "count = 0\n",
    "# for i in cats:\n",
    "#     print\n",
    "#     count += 1\n",
    "\n",
    "def print_best_frend(self):\n",
    "    if not hasattr(self, \"bestfrend\"):return\n",
    "    if self.name is None: return\n",
    "    print(f\"i´m {self.name}, and my best frend is {self.bestfrend.name}\")\n",
    "\n",
    "for cat in cats:\n",
    "    cat.print_best_frend()\n",
    "\n",
    "def greet(self):\n",
    "    print(f\"Hello, my name is {self.name}, and i'm {self.age} years old\")\n",
    "\n",
    "greet(my_cat)\n",
    "\n",
    "def greet(self, other=None):\n",
    "    if other is None:\n",
    "        \n",
    "        print(f\"Hello, my name is {self.name}, and i'm {self.age} years old\")\n",
    "    else:\n",
    "        print(f\"Hi {self.name}, my name is {other.name}\")\n",
    "\n",
    "print(\"\\n\")\n",
    "greet(my_cat, my_other_cat)\n",
    "\n",
    "def greet(self, other=None, third=None):\n",
    "    if third is None:\n",
    "        if other is None:\n",
    "            print(f\"Hello, my name is {self.name}, and i'm {self.age} years old\")\n",
    "        else:\n",
    "            print(f\"Hi {self.name}, my name is {other.name}\")\n",
    "    else:\n",
    "        print(f\"\"\"My name is {third.name} and i am {third.age-my_cat.age} older then\n",
    "            {my_cat.name} and {third.age-other.age} oldet then {other.name}\"\"\")\n",
    "\n",
    "print(\"\\n\")\n",
    "\n",
    "greet(my_cat, my_other_cat, my_third_cat)\n",
    "\n"
   ]
  },
  {
   "cell_type": "code",
   "execution_count": 74,
   "metadata": {},
   "outputs": [],
   "source": [
    "student = Student(\"Kalle\", 4.3)\n",
    "\n",
    "student.pet = Cat(\"Måns\", 6)\n"
   ]
  }
 ],
 "metadata": {
  "kernelspec": {
   "display_name": "Python-Anders-Wall-J6Nhmzgy",
   "language": "python",
   "name": "python3"
  },
  "language_info": {
   "codemirror_mode": {
    "name": "ipython",
    "version": 3
   },
   "file_extension": ".py",
   "mimetype": "text/x-python",
   "name": "python",
   "nbconvert_exporter": "python",
   "pygments_lexer": "ipython3",
   "version": "3.11.5"
  },
  "orig_nbformat": 4
 },
 "nbformat": 4,
 "nbformat_minor": 2
}
