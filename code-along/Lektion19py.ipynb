{
 "cells": [
  {
   "cell_type": "markdown",
   "metadata": {},
   "source": [
    "### Tupleas\n",
    "- Tuples are used to store multipel items in a single variable.\n",
    "- Tuples items ar ordered, unchngable, and alow duplicate values.\n",
    "- Tuple items are indexed, teh first item ha index[0], the secund item has index [1] .....\n",
    "- Tuples are writen whit round brakets. ex (), (1,) (1,2) (1,2,3) etc"
   ]
  },
  {
   "cell_type": "code",
   "execution_count": null,
   "metadata": {},
   "outputs": [],
   "source": [
    "# Create emty tuple\n",
    "empty_tuple = ()\n",
    "\n",
    "# Create tuple whit one item\n",
    "single_item_tuple = (1,)\n",
    "\n",
    "# Creat tuple whit items\n",
    "my_tuple = (\"Anders\", 46, \"Drunkbunny\")\n",
    "\n",
    "#tuple can be indexed  ( and sliced)\n",
    "print(f\"{my_tuple = }\")\n",
    "\n",
    "#but induvidale items can not be alterd\n",
    "# my_tuple[0] = \"kalle\"\n",
    "\n",
    "# The workaround to alter items is to convert to list and back.\n",
    "my_list = list(my_tuple)\n",
    "my_list[0] = \"kalle\"\n",
    "my_tuple = tuple(my_list)\n"
   ]
  },
  {
   "cell_type": "markdown",
   "metadata": {},
   "source": [
    "### Unpacking a tuple\n",
    "- When we creat a tuple, we normaly assign values to it. This is calld \"packing\" a tuple.\n",
    "- We are also allowed to extrakt the values back in to variable. This is called \"unpacking\""
   ]
  },
  {
   "cell_type": "code",
   "execution_count": null,
   "metadata": {},
   "outputs": [],
   "source": [
    "name, age, nick, = my_tuple\n",
    "print(f\"{name =}\")\n",
    "print(f\"{age =}\")\n",
    "print(f\"{nick =}\")"
   ]
  },
  {
   "cell_type": "markdown",
   "metadata": {},
   "source": [
    "Looping throh tuple"
   ]
  },
  {
   "cell_type": "code",
   "execution_count": null,
   "metadata": {},
   "outputs": [],
   "source": [
    "for item in my_tuple:\n",
    "    print(item)\n",
    "for i in  range(len(my_tuple)):\n",
    "    print(my_tuple[i])"
   ]
  }
 ],
 "metadata": {
  "language_info": {
   "name": "python"
  },
  "orig_nbformat": 4
 },
 "nbformat": 4,
 "nbformat_minor": 2
}
