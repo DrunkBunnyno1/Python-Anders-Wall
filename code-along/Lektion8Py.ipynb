{
 "cells": [
  {
   "cell_type": "markdown",
   "metadata": {},
   "source": [
    "# Strings\n",
    "\n",
    "- Data type usied in python for storing text.\n",
    "- Literal values whit single or dubble qouts. 'single' , \"dubble\"\n",
    "- strings are imutebul (mening not change bull)\n"
   ]
  },
  {
   "cell_type": "markdown",
   "metadata": {},
   "source": [
    "## Concatentaion\n",
    "\n",
    "in pyton we can concatenate two or more strings using + operator"
   ]
  },
  {
   "cell_type": "code",
   "execution_count": 3,
   "metadata": {},
   "outputs": [
    {
     "name": "stdout",
     "output_type": "stream",
     "text": [
      "HelloWorld\n"
     ]
    }
   ],
   "source": [
    "string1 = \"Hello\"\n",
    "string2 = \"World\"\n",
    "string3 = string1 + string2\n",
    "\n",
    "print(string3)"
   ]
  },
  {
   "cell_type": "markdown",
   "metadata": {},
   "source": [
    "## Multiline string\n",
    "\n",
    "python allows string literals to span multiply rows if strated and ended by \"\"\""
   ]
  },
  {
   "cell_type": "code",
   "execution_count": 2,
   "metadata": {},
   "outputs": [
    {
     "name": "stdout",
     "output_type": "stream",
     "text": [
      "test\n",
      "att \n",
      "skriva\n",
      "lite \n",
      "så \n",
      "här\n"
     ]
    }
   ],
   "source": [
    "test = \"\"\"test\n",
    "att \n",
    "skriva\n",
    "lite \n",
    "så \n",
    "här\"\"\"\n",
    "\n",
    "print(test)"
   ]
  },
  {
   "cell_type": "markdown",
   "metadata": {},
   "source": [
    "## Indexing and slicing\n",
    "\n"
   ]
  },
  {
   "cell_type": "code",
   "execution_count": 4,
   "metadata": {},
   "outputs": [
    {
     "name": "stdout",
     "output_type": "stream",
     "text": [
      "name ='Anders'\n",
      "name[0] ='A'\n",
      "name[-1] = 's'\n",
      "name[:3] ='And'\n"
     ]
    }
   ],
   "source": [
    "name = \"Anders\"\n",
    "print(f\"{name =}\")\n",
    "print(f\"{name[0] =}\")\n",
    "print(f\"{name[-1] = }\")\n",
    "print(f\"{name[:3] =}\")"
   ]
  },
  {
   "cell_type": "markdown",
   "metadata": {},
   "source": [
    "## Loping throuh a string"
   ]
  },
  {
   "cell_type": "code",
   "execution_count": 5,
   "metadata": {},
   "outputs": [
    {
     "name": "stdout",
     "output_type": "stream",
     "text": [
      "A\n",
      "n\n",
      "d\n",
      "e\n",
      "r\n",
      "s\n"
     ]
    }
   ],
   "source": [
    "name = \"Anders\"\n",
    "for char in name:\n",
    "    print(char)"
   ]
  },
  {
   "cell_type": "markdown",
   "metadata": {},
   "source": [
    "## Membership operator with string"
   ]
  },
  {
   "cell_type": "code",
   "execution_count": 10,
   "metadata": {},
   "outputs": [
    {
     "name": "stdout",
     "output_type": "stream",
     "text": [
      "'Ande' in name = True\n",
      "True\n"
     ]
    }
   ],
   "source": [
    "name = \"Anders\"\n",
    "\n",
    "print(f\"{'Ande' in name = }\")\n",
    "print(f\"{name in 'Anders'}\")\n"
   ]
  },
  {
   "cell_type": "markdown",
   "metadata": {},
   "source": [
    "## Escape characters\n",
    "\n",
    "to insert characters that are illegel in string use an escape character.\n",
    "\n",
    "- \\\\\" Doubel qout\n",
    "- \\\\' single qout\n",
    "- \\\\ Backslash\n",
    "\\nn new line\n",
    "\\t tab"
   ]
  },
  {
   "cell_type": "code",
   "execution_count": 11,
   "metadata": {},
   "outputs": [
    {
     "name": "stdout",
     "output_type": "stream",
     "text": [
      "Hello\tWorld\n",
      "her \\is \"anoter\" example\n"
     ]
    }
   ],
   "source": [
    "escaped_text = \"Hello\\tWorld\\nhere \\\\is \\\"anoter\\\" example\"\n",
    "print(escaped_text)"
   ]
  },
  {
   "cell_type": "markdown",
   "metadata": {},
   "source": [
    "# String methods"
   ]
  },
  {
   "cell_type": "code",
   "execution_count": 37,
   "metadata": {},
   "outputs": [
    {
     "name": "stdout",
     "output_type": "stream",
     "text": [
      "upper_name = 'ANDERS'\n",
      "\"Hello World\".upper() ='HELLO WORLD' \n",
      "'Hello World'.lower() ='hello world' \n",
      "'hello world'.title() ='Hello World'\n",
      "'hello world'.capitalize() ='Hello world'\n",
      "'hELO wORLD'.capitalize() ='Helo world'\n",
      "'Hello World'.startswith('Hello') =True \n",
      "'Hello World'.endswith('Hello') =False \n",
      "'      Anders     '.strip() = 'Anders'\n",
      "'      Anders     '.lstrip() = 'Anders     '\n",
      "'      Anders     '.rstrip() = '      Anders'\n",
      "'#'.join(['Hello', 'world', 'bastards']) ='Hello#world#bastards' \n",
      "'Hello world bastards'.split() =['Hello', 'world', 'bastards'] \n",
      "'Hello world bastards'.split('a') =['Hello world b', 'st', 'rds'] \n",
      "'I like Bannas'.replace('Bannas', 'Choklad') = 'I like Choklad'\n",
      "'I like Bannas'.find('Bannas') = 7\n"
     ]
    }
   ],
   "source": [
    "name = \"Anders\"\n",
    "upper_name = name.upper()\n",
    "print(f\"{upper_name = }\")\n",
    "print(f'{\"Hello World\".upper() =} ')\n",
    "print(f\"{'Hello World'.lower() =} \")\n",
    "print(f\"{'hello world'.title() =}\")\n",
    "print(f\"{'hello world'.capitalize() =}\")\n",
    "print(f\"{'hELO wORLD'.capitalize() =}\")\n",
    "\n",
    "# Check if string starts end with substring\n",
    "print(f\"{'Hello World'.startswith('Hello') =} \")\n",
    "print(f\"{'Hello World'.endswith('Hello') =} \")\n",
    "\n",
    "# Strip if often used when getting input form user:\n",
    "print(f\"{'      Anders     '.strip() = }\")\n",
    "print(f\"{'      Anders     '.lstrip() = }\")\n",
    "print(f\"{'      Anders     '.rstrip() = }\")\n",
    "\n",
    "print(f\"{'#'.join(['Hello', 'world', 'bastards']) =} \")\n",
    "print(f\"{'Hello world bastards'.split() =} \")\n",
    "print(f\"{'Hello world bastards'.split('a') =} \") # Split at the string in (' ')\n",
    "\n",
    "print(f\"{'I like Bannas'.replace('Bannas', 'Choklad') = }\") # Raplace part of a string first string in (' ', ' ') to second string\n",
    "\n",
    "print(f\"{'I like Bannas'.find('Bannas') = }\")\n"
   ]
  }
 ],
 "metadata": {
  "kernelspec": {
   "display_name": "Python 3",
   "language": "python",
   "name": "python3"
  },
  "language_info": {
   "codemirror_mode": {
    "name": "ipython",
    "version": 3
   },
   "file_extension": ".py",
   "mimetype": "text/x-python",
   "name": "python",
   "nbconvert_exporter": "python",
   "pygments_lexer": "ipython3",
   "version": "3.11.4"
  },
  "orig_nbformat": 4
 },
 "nbformat": 4,
 "nbformat_minor": 2
}
