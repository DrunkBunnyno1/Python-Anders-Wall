{
 "cells": [
  {
   "cell_type": "markdown",
   "metadata": {},
   "source": [
    "# operators\n",
    "An operator in programing language is a symbol that tells the compiler or interputer to preform specific mathematics, relational or logical operation and pruduce final result"
   ]
  },
  {
   "cell_type": "markdown",
   "metadata": {},
   "source": [
    "## Aritmetic operators\n",
    "- Addition +\n",
    "- Subtraktion\n",
    "- Multiplication *\n",
    "- Division /\n",
    "- Floor Division //\n",
    "- Modulos %\n",
    "- Exponentiation **"
   ]
  },
  {
   "cell_type": "code",
   "execution_count": 2,
   "metadata": {},
   "outputs": [
    {
     "name": "stdout",
     "output_type": "stream",
     "text": [
      "4.5\n",
      "4\n",
      "1\n",
      "27\n"
     ]
    }
   ],
   "source": [
    "print(9 / 2)\n",
    "print(9 // 2)\n",
    "print(9 % 2)\n",
    "print(3**3)"
   ]
  },
  {
   "cell_type": "markdown",
   "metadata": {},
   "source": [
    "# Comperison operator (sv. jämförelseoperationer)\n",
    "- Equal ==\n",
    "- Not Equal !=\n",
    "- Grater than >\n",
    "- Less then <\n",
    "- Less or Equal <=\n",
    "- Grater or Equal >="
   ]
  },
  {
   "cell_type": "code",
   "execution_count": 6,
   "metadata": {},
   "outputs": [
    {
     "name": "stdout",
     "output_type": "stream",
     "text": [
      "True\n",
      "True\n",
      "False\n",
      "True\n",
      "True\n",
      "True\n"
     ]
    }
   ],
   "source": [
    "x = 6\n",
    "print(x != 5)\n",
    "print(5 <= 8)\n",
    "print(5 < 5)\n",
    "\n",
    "print(\"Anders\" < \"Fredrik\")\n",
    "\n",
    "x = 15\n",
    "\n",
    "print(x > 10 and x < 20)\n",
    "print(10 < x < 20)"
   ]
  },
  {
   "cell_type": "markdown",
   "metadata": {},
   "source": [
    "# Logical Operators\n",
    "- and (True if both ar True)\n",
    "- or (True if one or both ar True)\n",
    "- not (True if false, false if True)"
   ]
  },
  {
   "cell_type": "code",
   "execution_count": 4,
   "metadata": {},
   "outputs": [
    {
     "name": "stdout",
     "output_type": "stream",
     "text": [
      "False\n",
      "True\n",
      "False True\n"
     ]
    }
   ],
   "source": [
    "print(True and False)\n",
    "print(True or False)\n",
    "print(not True, not False)"
   ]
  },
  {
   "cell_type": "markdown",
   "metadata": {},
   "source": [
    "# Membership operators\n",
    "membership oerators are used to test if a sequance is presebtated in objekt\n",
    "\n",
    "- in\n",
    "- not"
   ]
  },
  {
   "cell_type": "code",
   "execution_count": 3,
   "metadata": {},
   "outputs": [
    {
     "name": "stdout",
     "output_type": "stream",
     "text": [
      "True\n"
     ]
    }
   ],
   "source": [
    "fruts =[\"apple\", \"bannan\", \"cherry\", \"orange\"]\n",
    "print(f\"{'orange' in fruts}\")"
   ]
  }
 ],
 "metadata": {
  "kernelspec": {
   "display_name": "Python 3",
   "language": "python",
   "name": "python3"
  },
  "language_info": {
   "codemirror_mode": {
    "name": "ipython",
    "version": 3
   },
   "file_extension": ".py",
   "mimetype": "text/x-python",
   "name": "python",
   "nbconvert_exporter": "python",
   "pygments_lexer": "ipython3",
   "version": "3.11.5"
  },
  "orig_nbformat": 4
 },
 "nbformat": 4,
 "nbformat_minor": 2
}
