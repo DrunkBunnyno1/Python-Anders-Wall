{
 "cells": [
  {
   "cell_type": "markdown",
   "metadata": {},
   "source": [
    "# For Loop\n",
    "A for loop is used for iterating over a sequance. (Exempel list, string, dictionary, range)\n",
    "\n",
    "This is less like the for keyword in other programing languages, and works more like an iterator method as found in other objekt-orgentende programing languages (ex C#'s froeach-loop)"
   ]
  },
  {
   "cell_type": "code",
   "execution_count": 1,
   "metadata": {},
   "outputs": [
    {
     "name": "stdout",
     "output_type": "stream",
     "text": [
      "Fredrik\n",
      "Camilla\n",
      "Anna\n",
      "Anders\n",
      "Erik\n"
     ]
    }
   ],
   "source": [
    "# Exempel 1, iterating over the items in a list:\n",
    "names = [\"Fredrik\", \"Camilla\", \"Anna\", \"Anders\", \"Erik\"]\n",
    "\n",
    "for name in names:\n",
    "    print(name)"
   ]
  },
  {
   "cell_type": "code",
   "execution_count": 7,
   "metadata": {},
   "outputs": [
    {
     "name": "stdout",
     "output_type": "stream",
     "text": [
      "using only stop valeu\n",
      "0\n",
      "1\n",
      "2\n",
      "3\n",
      "4\n",
      "\n",
      "using start and stop value: \n",
      "1\n",
      "2\n",
      "3\n",
      "4\n",
      "5\n",
      "\n",
      "Using start stop and step value\n",
      "1\n",
      "3\n",
      "5\n",
      "7\n",
      "9\n",
      "\n",
      "Can cunt reversed using negativ step value\n",
      "10\n",
      "8\n",
      "6\n",
      "4\n",
      "2\n"
     ]
    }
   ],
   "source": [
    "# Exempel 2, interating over range:\n",
    "\n",
    "print(\"using only stop valeu\")\n",
    "for i in range(5):\n",
    "    print(i)\n",
    "\n",
    "print(\"\\nusing start and stop value: \")\n",
    "for i in range(1,6):\n",
    "    print(i)\n",
    "\n",
    "print(\"\\nUsing start stop and step value\")\n",
    "for i in range(1,11,2):\n",
    "    print(i)\n",
    "\n",
    "print(\"\\nCan cunt reversed using negativ step value\")\n",
    "for i in range(10,1,-2):\n",
    "    print(i)\n"
   ]
  },
  {
   "cell_type": "markdown",
   "metadata": {},
   "source": [
    "## Like while loop, for loop can use the folwing statment:\n",
    "- continue\n",
    "- barke\n",
    "- Else"
   ]
  },
  {
   "cell_type": "markdown",
   "metadata": {},
   "source": [
    "## Nested loops\n",
    "A loop whitin a loop"
   ]
  },
  {
   "cell_type": "code",
   "execution_count": 8,
   "metadata": {},
   "outputs": [
    {
     "name": "stdout",
     "output_type": "stream",
     "text": [
      "ooooo\n",
      "ooooo\n",
      "ooooo\n"
     ]
    }
   ],
   "source": [
    "for y in range(3): # start loop 3 times\n",
    "    for x in range(5): # loop in loop start 3 times and loop 5 times\n",
    "        print(\"o\", end=\"\")\n",
    "    print()"
   ]
  }
 ],
 "metadata": {
  "kernelspec": {
   "display_name": "Python 3",
   "language": "python",
   "name": "python3"
  },
  "language_info": {
   "codemirror_mode": {
    "name": "ipython",
    "version": 3
   },
   "file_extension": ".py",
   "mimetype": "text/x-python",
   "name": "python",
   "nbconvert_exporter": "python",
   "pygments_lexer": "ipython3",
   "version": "3.11.4"
  },
  "orig_nbformat": 4
 },
 "nbformat": 4,
 "nbformat_minor": 2
}
